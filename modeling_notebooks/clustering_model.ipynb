{
 "cells": [
  {
   "cell_type": "markdown",
   "id": "3d626ae1-7aab-4457-9144-6f554ea1bdda",
   "metadata": {},
   "source": [
    "**KMeans Clustering**\n"
   ]
  },
  {
   "cell_type": "code",
   "execution_count": 1,
   "id": "552aa1f2-abc7-4ffb-b4ae-29c8529c7e50",
   "metadata": {},
   "outputs": [
    {
     "name": "stderr",
     "output_type": "stream",
     "text": [
      "C:\\Users\\aorfa\\anaconda3\\lib\\site-packages\\scipy\\__init__.py:146: UserWarning: A NumPy version >=1.16.5 and <1.23.0 is required for this version of SciPy (detected version 1.23.1\n",
      "  warnings.warn(f\"A NumPy version >={np_minversion} and <{np_maxversion}\"\n"
     ]
    }
   ],
   "source": [
    "import pandas as pd\n",
    "import numpy as np\n",
    "import matplotlib.pyplot as plt\n",
    "import seaborn as sns\n",
    "import matplotlib.patches as mpatches\n",
    "\n",
    "from sklearn.preprocessing import StandardScaler\n",
    "from sklearn.cluster import KMeans\n",
    "from sklearn.metrics import silhouette_score"
   ]
  },
  {
   "cell_type": "code",
   "execution_count": 2,
   "id": "25e14493-6895-40a3-8745-97d09153ea4a",
   "metadata": {},
   "outputs": [],
   "source": [
    "df = pd.read_csv('../clean_data/full_merged_data.csv')\n",
    "df.drop(columns=['FIPS', 'Booster_Doses_Vax_Pct_030121', 'Booster_Doses_Vax_Pct_090121', 'null_pct'], inplace=True)\n",
    "df.dropna(inplace=True)\n",
    "#df = data[(data['Dose1_Pop_Pct_030122'] > 0) & (data['Dose1_Pop_Pct_090121'] > 0)].copy()"
   ]
  },
  {
   "cell_type": "markdown",
   "id": "01055482-2ba4-42b7-a32d-577bf96e5ef0",
   "metadata": {},
   "source": [
    "## Final Preprocessing"
   ]
  },
  {
   "cell_type": "markdown",
   "id": "8d8c2a6f-fa0c-4b4d-a01d-cd0b4ac22566",
   "metadata": {},
   "source": [
    "### Examine where there are 0s in the vax data"
   ]
  },
  {
   "cell_type": "code",
   "execution_count": 3,
   "id": "4b54f1ae-1a09-4a50-a57d-83ad6ed1bf41",
   "metadata": {},
   "outputs": [
    {
     "data": {
      "text/html": [
       "<div>\n",
       "<style scoped>\n",
       "    .dataframe tbody tr th:only-of-type {\n",
       "        vertical-align: middle;\n",
       "    }\n",
       "\n",
       "    .dataframe tbody tr th {\n",
       "        vertical-align: top;\n",
       "    }\n",
       "\n",
       "    .dataframe thead th {\n",
       "        text-align: right;\n",
       "    }\n",
       "</style>\n",
       "<table border=\"1\" class=\"dataframe\">\n",
       "  <thead>\n",
       "    <tr style=\"text-align: right;\">\n",
       "      <th></th>\n",
       "      <th>County_State</th>\n",
       "      <th>pct_hesitant_02-24-22</th>\n",
       "      <th>pct_somewhat_hesitant_02-24-22</th>\n",
       "      <th>pct_highly_hesitant_02-24-22</th>\n",
       "      <th>uninsured_pct</th>\n",
       "      <th>socio_wgt</th>\n",
       "      <th>hh_wgt</th>\n",
       "      <th>minority_wgt</th>\n",
       "      <th>housing_wgt</th>\n",
       "      <th>overall_wgt</th>\n",
       "      <th>...</th>\n",
       "      <th>Census2019_65PlusPop</th>\n",
       "      <th>Census2019_18to64Pop</th>\n",
       "      <th>state</th>\n",
       "      <th>candidate_won</th>\n",
       "      <th>pct_trump</th>\n",
       "      <th>pct_biden</th>\n",
       "      <th>hesitant_x_nzip</th>\n",
       "      <th>somewhat_hesitant_x_nzip</th>\n",
       "      <th>highly_hesitant_x_nzip</th>\n",
       "      <th>Census2019_Pct_65Plus</th>\n",
       "    </tr>\n",
       "  </thead>\n",
       "  <tbody>\n",
       "    <tr>\n",
       "      <th>15</th>\n",
       "      <td>adams_ne</td>\n",
       "      <td>0.279</td>\n",
       "      <td>0.075</td>\n",
       "      <td>0.204</td>\n",
       "      <td>0.070038</td>\n",
       "      <td>0.419250</td>\n",
       "      <td>0.553167</td>\n",
       "      <td>0.373541</td>\n",
       "      <td>0.481724</td>\n",
       "      <td>0.432931</td>\n",
       "      <td>...</td>\n",
       "      <td>5916.0</td>\n",
       "      <td>18104.0</td>\n",
       "      <td>NE</td>\n",
       "      <td>1.0</td>\n",
       "      <td>0.688</td>\n",
       "      <td>0.312</td>\n",
       "      <td>3.348</td>\n",
       "      <td>0.900</td>\n",
       "      <td>2.448</td>\n",
       "      <td>0.188630</td>\n",
       "    </tr>\n",
       "    <tr>\n",
       "      <th>53</th>\n",
       "      <td>alpine_ca</td>\n",
       "      <td>0.122</td>\n",
       "      <td>0.032</td>\n",
       "      <td>0.089</td>\n",
       "      <td>0.102967</td>\n",
       "      <td>0.731800</td>\n",
       "      <td>0.776300</td>\n",
       "      <td>0.467700</td>\n",
       "      <td>0.905400</td>\n",
       "      <td>0.819700</td>\n",
       "      <td>...</td>\n",
       "      <td>298.0</td>\n",
       "      <td>631.0</td>\n",
       "      <td>CA</td>\n",
       "      <td>0.0</td>\n",
       "      <td>0.358</td>\n",
       "      <td>0.642</td>\n",
       "      <td>0.366</td>\n",
       "      <td>0.096</td>\n",
       "      <td>0.267</td>\n",
       "      <td>0.263950</td>\n",
       "    </tr>\n",
       "    <tr>\n",
       "      <th>63</th>\n",
       "      <td>anderson_tx</td>\n",
       "      <td>0.352</td>\n",
       "      <td>0.065</td>\n",
       "      <td>0.287</td>\n",
       "      <td>0.107789</td>\n",
       "      <td>0.602553</td>\n",
       "      <td>0.557233</td>\n",
       "      <td>0.566100</td>\n",
       "      <td>0.626916</td>\n",
       "      <td>0.618462</td>\n",
       "      <td>...</td>\n",
       "      <td>8658.0</td>\n",
       "      <td>38097.0</td>\n",
       "      <td>TX</td>\n",
       "      <td>1.0</td>\n",
       "      <td>0.786</td>\n",
       "      <td>0.214</td>\n",
       "      <td>3.520</td>\n",
       "      <td>0.650</td>\n",
       "      <td>2.870</td>\n",
       "      <td>0.149961</td>\n",
       "    </tr>\n",
       "    <tr>\n",
       "      <th>65</th>\n",
       "      <td>andrews_tx</td>\n",
       "      <td>0.170</td>\n",
       "      <td>0.093</td>\n",
       "      <td>0.077</td>\n",
       "      <td>0.181221</td>\n",
       "      <td>0.566261</td>\n",
       "      <td>0.307379</td>\n",
       "      <td>0.817321</td>\n",
       "      <td>0.631945</td>\n",
       "      <td>0.621314</td>\n",
       "      <td>...</td>\n",
       "      <td>1833.0</td>\n",
       "      <td>11069.0</td>\n",
       "      <td>TX</td>\n",
       "      <td>1.0</td>\n",
       "      <td>0.843</td>\n",
       "      <td>0.157</td>\n",
       "      <td>0.170</td>\n",
       "      <td>0.093</td>\n",
       "      <td>0.077</td>\n",
       "      <td>0.097995</td>\n",
       "    </tr>\n",
       "    <tr>\n",
       "      <th>67</th>\n",
       "      <td>angelina_tx</td>\n",
       "      <td>0.313</td>\n",
       "      <td>0.074</td>\n",
       "      <td>0.239</td>\n",
       "      <td>0.187542</td>\n",
       "      <td>0.717027</td>\n",
       "      <td>0.852157</td>\n",
       "      <td>0.596047</td>\n",
       "      <td>0.670666</td>\n",
       "      <td>0.777134</td>\n",
       "      <td>...</td>\n",
       "      <td>14422.0</td>\n",
       "      <td>50236.0</td>\n",
       "      <td>TX</td>\n",
       "      <td>1.0</td>\n",
       "      <td>0.725</td>\n",
       "      <td>0.275</td>\n",
       "      <td>1.878</td>\n",
       "      <td>0.444</td>\n",
       "      <td>1.434</td>\n",
       "      <td>0.166315</td>\n",
       "    </tr>\n",
       "    <tr>\n",
       "      <th>...</th>\n",
       "      <td>...</td>\n",
       "      <td>...</td>\n",
       "      <td>...</td>\n",
       "      <td>...</td>\n",
       "      <td>...</td>\n",
       "      <td>...</td>\n",
       "      <td>...</td>\n",
       "      <td>...</td>\n",
       "      <td>...</td>\n",
       "      <td>...</td>\n",
       "      <td>...</td>\n",
       "      <td>...</td>\n",
       "      <td>...</td>\n",
       "      <td>...</td>\n",
       "      <td>...</td>\n",
       "      <td>...</td>\n",
       "      <td>...</td>\n",
       "      <td>...</td>\n",
       "      <td>...</td>\n",
       "      <td>...</td>\n",
       "      <td>...</td>\n",
       "    </tr>\n",
       "    <tr>\n",
       "      <th>3183</th>\n",
       "      <td>york_ne</td>\n",
       "      <td>0.251</td>\n",
       "      <td>0.055</td>\n",
       "      <td>0.196</td>\n",
       "      <td>0.064642</td>\n",
       "      <td>0.301035</td>\n",
       "      <td>0.584676</td>\n",
       "      <td>0.271438</td>\n",
       "      <td>0.591781</td>\n",
       "      <td>0.412412</td>\n",
       "      <td>...</td>\n",
       "      <td>2860.0</td>\n",
       "      <td>7642.0</td>\n",
       "      <td>NE</td>\n",
       "      <td>1.0</td>\n",
       "      <td>0.745</td>\n",
       "      <td>0.255</td>\n",
       "      <td>2.510</td>\n",
       "      <td>0.550</td>\n",
       "      <td>1.960</td>\n",
       "      <td>0.209080</td>\n",
       "    </tr>\n",
       "    <tr>\n",
       "      <th>3187</th>\n",
       "      <td>young_tx</td>\n",
       "      <td>0.260</td>\n",
       "      <td>0.107</td>\n",
       "      <td>0.153</td>\n",
       "      <td>0.182897</td>\n",
       "      <td>0.521612</td>\n",
       "      <td>0.814959</td>\n",
       "      <td>0.458777</td>\n",
       "      <td>0.681379</td>\n",
       "      <td>0.653761</td>\n",
       "      <td>...</td>\n",
       "      <td>3774.0</td>\n",
       "      <td>9975.0</td>\n",
       "      <td>TX</td>\n",
       "      <td>1.0</td>\n",
       "      <td>0.863</td>\n",
       "      <td>0.137</td>\n",
       "      <td>1.560</td>\n",
       "      <td>0.642</td>\n",
       "      <td>0.918</td>\n",
       "      <td>0.209550</td>\n",
       "    </tr>\n",
       "    <tr>\n",
       "      <th>3191</th>\n",
       "      <td>yuma_co</td>\n",
       "      <td>0.232</td>\n",
       "      <td>0.062</td>\n",
       "      <td>0.170</td>\n",
       "      <td>0.111034</td>\n",
       "      <td>0.487928</td>\n",
       "      <td>0.712810</td>\n",
       "      <td>0.652603</td>\n",
       "      <td>0.813721</td>\n",
       "      <td>0.709644</td>\n",
       "      <td>...</td>\n",
       "      <td>1872.0</td>\n",
       "      <td>5402.0</td>\n",
       "      <td>CO</td>\n",
       "      <td>1.0</td>\n",
       "      <td>0.825</td>\n",
       "      <td>0.175</td>\n",
       "      <td>2.320</td>\n",
       "      <td>0.620</td>\n",
       "      <td>1.700</td>\n",
       "      <td>0.186845</td>\n",
       "    </tr>\n",
       "    <tr>\n",
       "      <th>3192</th>\n",
       "      <td>zapata_tx</td>\n",
       "      <td>0.131</td>\n",
       "      <td>0.044</td>\n",
       "      <td>0.087</td>\n",
       "      <td>0.292713</td>\n",
       "      <td>0.896325</td>\n",
       "      <td>0.893859</td>\n",
       "      <td>0.977769</td>\n",
       "      <td>0.717132</td>\n",
       "      <td>0.954960</td>\n",
       "      <td>...</td>\n",
       "      <td>1866.0</td>\n",
       "      <td>7625.0</td>\n",
       "      <td>TX</td>\n",
       "      <td>1.0</td>\n",
       "      <td>0.525</td>\n",
       "      <td>0.475</td>\n",
       "      <td>0.655</td>\n",
       "      <td>0.220</td>\n",
       "      <td>0.435</td>\n",
       "      <td>0.131603</td>\n",
       "    </tr>\n",
       "    <tr>\n",
       "      <th>3193</th>\n",
       "      <td>zavala_tx</td>\n",
       "      <td>0.205</td>\n",
       "      <td>0.128</td>\n",
       "      <td>0.077</td>\n",
       "      <td>0.180859</td>\n",
       "      <td>0.926008</td>\n",
       "      <td>0.973677</td>\n",
       "      <td>0.920482</td>\n",
       "      <td>0.873849</td>\n",
       "      <td>0.988315</td>\n",
       "      <td>...</td>\n",
       "      <td>1723.0</td>\n",
       "      <td>6756.0</td>\n",
       "      <td>TX</td>\n",
       "      <td>0.0</td>\n",
       "      <td>0.346</td>\n",
       "      <td>0.654</td>\n",
       "      <td>0.615</td>\n",
       "      <td>0.384</td>\n",
       "      <td>0.231</td>\n",
       "      <td>0.145524</td>\n",
       "    </tr>\n",
       "  </tbody>\n",
       "</table>\n",
       "<p>469 rows × 30 columns</p>\n",
       "</div>"
      ],
      "text/plain": [
       "     County_State  pct_hesitant_02-24-22  pct_somewhat_hesitant_02-24-22  \\\n",
       "15       adams_ne                  0.279                           0.075   \n",
       "53      alpine_ca                  0.122                           0.032   \n",
       "63    anderson_tx                  0.352                           0.065   \n",
       "65     andrews_tx                  0.170                           0.093   \n",
       "67    angelina_tx                  0.313                           0.074   \n",
       "...           ...                    ...                             ...   \n",
       "3183      york_ne                  0.251                           0.055   \n",
       "3187     young_tx                  0.260                           0.107   \n",
       "3191      yuma_co                  0.232                           0.062   \n",
       "3192    zapata_tx                  0.131                           0.044   \n",
       "3193    zavala_tx                  0.205                           0.128   \n",
       "\n",
       "      pct_highly_hesitant_02-24-22  uninsured_pct  socio_wgt    hh_wgt  \\\n",
       "15                           0.204       0.070038   0.419250  0.553167   \n",
       "53                           0.089       0.102967   0.731800  0.776300   \n",
       "63                           0.287       0.107789   0.602553  0.557233   \n",
       "65                           0.077       0.181221   0.566261  0.307379   \n",
       "67                           0.239       0.187542   0.717027  0.852157   \n",
       "...                            ...            ...        ...       ...   \n",
       "3183                         0.196       0.064642   0.301035  0.584676   \n",
       "3187                         0.153       0.182897   0.521612  0.814959   \n",
       "3191                         0.170       0.111034   0.487928  0.712810   \n",
       "3192                         0.087       0.292713   0.896325  0.893859   \n",
       "3193                         0.077       0.180859   0.926008  0.973677   \n",
       "\n",
       "      minority_wgt  housing_wgt  overall_wgt  ...  Census2019_65PlusPop  \\\n",
       "15        0.373541     0.481724     0.432931  ...                5916.0   \n",
       "53        0.467700     0.905400     0.819700  ...                 298.0   \n",
       "63        0.566100     0.626916     0.618462  ...                8658.0   \n",
       "65        0.817321     0.631945     0.621314  ...                1833.0   \n",
       "67        0.596047     0.670666     0.777134  ...               14422.0   \n",
       "...            ...          ...          ...  ...                   ...   \n",
       "3183      0.271438     0.591781     0.412412  ...                2860.0   \n",
       "3187      0.458777     0.681379     0.653761  ...                3774.0   \n",
       "3191      0.652603     0.813721     0.709644  ...                1872.0   \n",
       "3192      0.977769     0.717132     0.954960  ...                1866.0   \n",
       "3193      0.920482     0.873849     0.988315  ...                1723.0   \n",
       "\n",
       "      Census2019_18to64Pop  state  candidate_won  pct_trump  pct_biden  \\\n",
       "15                 18104.0     NE            1.0      0.688      0.312   \n",
       "53                   631.0     CA            0.0      0.358      0.642   \n",
       "63                 38097.0     TX            1.0      0.786      0.214   \n",
       "65                 11069.0     TX            1.0      0.843      0.157   \n",
       "67                 50236.0     TX            1.0      0.725      0.275   \n",
       "...                    ...    ...            ...        ...        ...   \n",
       "3183                7642.0     NE            1.0      0.745      0.255   \n",
       "3187                9975.0     TX            1.0      0.863      0.137   \n",
       "3191                5402.0     CO            1.0      0.825      0.175   \n",
       "3192                7625.0     TX            1.0      0.525      0.475   \n",
       "3193                6756.0     TX            0.0      0.346      0.654   \n",
       "\n",
       "      hesitant_x_nzip  somewhat_hesitant_x_nzip  highly_hesitant_x_nzip  \\\n",
       "15              3.348                     0.900                   2.448   \n",
       "53              0.366                     0.096                   0.267   \n",
       "63              3.520                     0.650                   2.870   \n",
       "65              0.170                     0.093                   0.077   \n",
       "67              1.878                     0.444                   1.434   \n",
       "...               ...                       ...                     ...   \n",
       "3183            2.510                     0.550                   1.960   \n",
       "3187            1.560                     0.642                   0.918   \n",
       "3191            2.320                     0.620                   1.700   \n",
       "3192            0.655                     0.220                   0.435   \n",
       "3193            0.615                     0.384                   0.231   \n",
       "\n",
       "      Census2019_Pct_65Plus  \n",
       "15                 0.188630  \n",
       "53                 0.263950  \n",
       "63                 0.149961  \n",
       "65                 0.097995  \n",
       "67                 0.166315  \n",
       "...                     ...  \n",
       "3183               0.209080  \n",
       "3187               0.209550  \n",
       "3191               0.186845  \n",
       "3192               0.131603  \n",
       "3193               0.145524  \n",
       "\n",
       "[469 rows x 30 columns]"
      ]
     },
     "execution_count": 3,
     "metadata": {},
     "output_type": "execute_result"
    }
   ],
   "source": [
    "# Rows with zeros in vax data\n",
    "\n",
    "df[(df['Dose1_Pop_Pct_030121'] == 0) | (df['Dose1_Pop_Pct_090121'] == 0) | (df['Dose1_Pop_Pct_030122'] == 0) | (df['Series_Complete_Pop_Pct_090121'] == 0) | (df['Series_Complete_Pop_Pct_030122'] == 0)]"
   ]
  },
  {
   "cell_type": "code",
   "execution_count": 4,
   "id": "c3def4cb-092c-4291-aeda-f393a39d36b1",
   "metadata": {},
   "outputs": [
    {
     "name": "stdout",
     "output_type": "stream",
     "text": [
      "zeros march21: 340\n",
      "zeros sept21: 418\n",
      "zeros march22: 85\n"
     ]
    }
   ],
   "source": [
    "\n",
    "zero_march21 = df[df['Dose1_Pop_Pct_030121'] == 0.0]\n",
    "zero_sept21 = df[df['Dose1_Pop_Pct_090121'] == 0.0]\n",
    "zero_march22 = df[df['Dose1_Pop_Pct_030122'] == 0.0]\n",
    "\n",
    "print(f'zeros march21: {zero_march21.shape[0]}')\n",
    "print(f'zeros sept21: {zero_sept21.shape[0]}')\n",
    "print(f'zeros march22: {zero_march22.shape[0]}')"
   ]
  },
  {
   "cell_type": "code",
   "execution_count": 5,
   "id": "c8b821bd-1c48-40c9-bc57-d63b103dacde",
   "metadata": {},
   "outputs": [
    {
     "name": "stdout",
     "output_type": "stream",
     "text": [
      "zeros march21: 340\n",
      "zeros sept21: 418\n",
      "zeros march22: 85\n"
     ]
    }
   ],
   "source": [
    "zero_complete_march21 = df[df['Series_Complete_Pop_Pct_030121'] == 0.0]\n",
    "zero_complete_sept21 = df[df['Series_Complete_Pop_Pct_090121'] == 0.0]\n",
    "zero_complete_march22 = df[df['Series_Complete_Pop_Pct_030122'] == 0.0]\n",
    "\n",
    "print(f'zeros march21: {zero_march21.shape[0]}')\n",
    "print(f'zeros sept21: {zero_sept21.shape[0]}')\n",
    "print(f'zeros march22: {zero_march22.shape[0]}')"
   ]
  },
  {
   "cell_type": "code",
   "execution_count": 6,
   "id": "9ee8ce16-06c1-4634-87c8-56b32e6b5e0b",
   "metadata": {},
   "outputs": [],
   "source": [
    "# Add binary features for missing data at each checkpoint date\n",
    "# Checked to make sure that all counties missing Series Complete data for a given date are also missing Dose1 for that date\n",
    "df['Missing_March21'] = df['Dose1_Pop_Pct_030121'].map(lambda x: x == 0).astype(int)\n",
    "df['Missing_Sept21'] = df['Dose1_Pop_Pct_090121'].map(lambda x: x == 0).astype(int)\n",
    "df['Missing_March22'] = df['Dose1_Pop_Pct_030122'].map(lambda x: x== 0).astype(int)"
   ]
  },
  {
   "cell_type": "code",
   "execution_count": 7,
   "id": "b53e25e5-faad-4adc-87d7-ad016ed495a0",
   "metadata": {
    "tags": []
   },
   "outputs": [],
   "source": [
    "# Imputing vax checkpoints for Sept 21 as mean of March 21 and March 22\n",
    "\n",
    "df['Mar21_22_Dose1_Avg'] = (df['Dose1_Pop_Pct_030121'] + df['Dose1_Pop_Pct_030122']) / 2\n",
    "df['Mar21_22_Complete_Avg'] = (df['Dose1_Pop_Pct_030121'] + df['Dose1_Pop_Pct_030122']) / 2\n",
    "\n",
    "df['Dose1_Pop_Pct_090121_impute'] = df['Dose1_Pop_Pct_090121'].replace(0, np.nan).fillna(df['Mar21_22_Dose1_Avg'])\n",
    "df['Series_Complete_Pop_Pct_090121_impute'] = df['Series_Complete_Pop_Pct_090121'].replace(0, np.nan).fillna(df['Mar21_22_Complete_Avg'])\n",
    "\n",
    "df.drop(columns=['Mar21_22_Complete_Avg', 'Mar21_22_Dose1_Avg'], inplace=True)"
   ]
  },
  {
   "cell_type": "code",
   "execution_count": 8,
   "id": "3fd21e32-495d-41d2-a5af-1c71f207e56a",
   "metadata": {},
   "outputs": [
    {
     "data": {
      "text/plain": [
       "TX    0.747059\n",
       "CO    0.082353\n",
       "VA    0.044118\n",
       "NM    0.041176\n",
       "NE    0.029412\n",
       "CA    0.023529\n",
       "SD    0.011765\n",
       "HI    0.011765\n",
       "ID    0.002941\n",
       "MA    0.002941\n",
       "MT    0.002941\n",
       "Name: state, dtype: float64"
      ]
     },
     "execution_count": 8,
     "metadata": {},
     "output_type": "execute_result"
    }
   ],
   "source": [
    "# % zeros by state\n",
    "# March 21\n",
    "zero_march21['state'].value_counts(normalize=True)"
   ]
  },
  {
   "cell_type": "code",
   "execution_count": 9,
   "id": "af3cfd76-7aa4-4c71-8845-9f12d252e95b",
   "metadata": {},
   "outputs": [
    {
     "data": {
      "text/plain": [
       "TX    0.607656\n",
       "NE    0.141148\n",
       "SD    0.088517\n",
       "OH    0.055024\n",
       "NM    0.038278\n",
       "MI    0.023923\n",
       "CA    0.019139\n",
       "VA    0.016746\n",
       "HI    0.009569\n",
       "Name: state, dtype: float64"
      ]
     },
     "execution_count": 9,
     "metadata": {},
     "output_type": "execute_result"
    }
   ],
   "source": [
    "# Sept 21\n",
    "zero_sept21['state'].value_counts(normalize=True)"
   ]
  },
  {
   "cell_type": "code",
   "execution_count": 10,
   "id": "c73b4b86-d858-47cd-b75a-8f60b9c73562",
   "metadata": {},
   "outputs": [
    {
     "data": {
      "text/plain": [
       "NE    0.682353\n",
       "VA    0.105882\n",
       "CA    0.094118\n",
       "HI    0.047059\n",
       "MA    0.035294\n",
       "TX    0.023529\n",
       "MI    0.011765\n",
       "Name: state, dtype: float64"
      ]
     },
     "execution_count": 10,
     "metadata": {},
     "output_type": "execute_result"
    }
   ],
   "source": [
    "zero_march22['state'].value_counts(normalize=True)"
   ]
  },
  {
   "cell_type": "code",
   "execution_count": 11,
   "id": "bdb150d0-cc9a-40a3-8e2e-1a7410b5b99d",
   "metadata": {},
   "outputs": [
    {
     "data": {
      "text/plain": [
       "(3064, 35)"
      ]
     },
     "execution_count": 11,
     "metadata": {},
     "output_type": "execute_result"
    }
   ],
   "source": [
    "no_data_post321 = df[(df['Dose1_Pop_Pct_030122'] == 0) & (df['Dose1_Pop_Pct_090121'] == 0)].copy().index\n",
    "reporting = df.drop(no_data_post321)\n",
    "reporting.shape"
   ]
  },
  {
   "cell_type": "code",
   "execution_count": 12,
   "id": "8fa93cc5-49c8-4ad8-94cb-62429301af6d",
   "metadata": {},
   "outputs": [
    {
     "data": {
      "text/plain": [
       "(3138, 35)"
      ]
     },
     "execution_count": 12,
     "metadata": {},
     "output_type": "execute_result"
    }
   ],
   "source": [
    "df.shape"
   ]
  },
  {
   "cell_type": "code",
   "execution_count": 13,
   "id": "5cc4b0ca-b055-4b09-bd1d-6e09fa44932a",
   "metadata": {},
   "outputs": [
    {
     "data": {
      "text/plain": [
       "(254, 35)"
      ]
     },
     "execution_count": 13,
     "metadata": {},
     "output_type": "execute_result"
    }
   ],
   "source": [
    "# How many Texas counties?\n",
    "df[df['state'] =='TX'].shape"
   ]
  },
  {
   "cell_type": "code",
   "execution_count": 14,
   "id": "2dbfd545-d678-4f65-854b-096a45ecc3a2",
   "metadata": {},
   "outputs": [
    {
     "data": {
      "text/plain": [
       "(252, 35)"
      ]
     },
     "execution_count": 14,
     "metadata": {},
     "output_type": "execute_result"
    }
   ],
   "source": [
    "reporting[reporting['state'] == 'TX'].shape\n",
    "\n",
    "# All but 2 texas counties *did* report data after March '21"
   ]
  },
  {
   "cell_type": "code",
   "execution_count": 15,
   "id": "6e3c8ac1-3cbb-47ba-aec9-eacc9073f6dd",
   "metadata": {},
   "outputs": [
    {
     "data": {
      "text/plain": [
       "(93, 35)"
      ]
     },
     "execution_count": 15,
     "metadata": {},
     "output_type": "execute_result"
    }
   ],
   "source": [
    "# How many Nebraska counties?\n",
    "df[df['state'] =='NE'].shape"
   ]
  },
  {
   "cell_type": "code",
   "execution_count": 16,
   "id": "99609de8-1a6d-49c8-81b4-33c0754b7de2",
   "metadata": {},
   "outputs": [
    {
     "data": {
      "text/plain": [
       "(39, 35)"
      ]
     },
     "execution_count": 16,
     "metadata": {},
     "output_type": "execute_result"
    }
   ],
   "source": [
    "reporting[reporting['state'] == 'NE'].shape\n",
    "\n",
    "# only about 1/3 of nebraska counties reported data after march '21"
   ]
  },
  {
   "cell_type": "code",
   "execution_count": 17,
   "id": "07e9561b-59d8-4f18-8ca5-d095495f3102",
   "metadata": {},
   "outputs": [
    {
     "data": {
      "text/plain": [
       "Index(['County_State', 'pct_hesitant_02-24-22',\n",
       "       'pct_somewhat_hesitant_02-24-22', 'pct_highly_hesitant_02-24-22',\n",
       "       'uninsured_pct', 'socio_wgt', 'hh_wgt', 'minority_wgt', 'housing_wgt',\n",
       "       'overall_wgt', 'Dose1_Pop_Pct_030121', 'Series_Complete_Pop_Pct_030121',\n",
       "       'Dose1_Pop_Pct_090121', 'Series_Complete_Pop_Pct_090121',\n",
       "       'Dose1_Pop_Pct_030122', 'Series_Complete_Pop_Pct_030122',\n",
       "       'Booster_Doses_Vax_Pct_030122', 'SVI_CTGY', 'Metro_status',\n",
       "       'Census2019', 'Census2019_65PlusPop', 'Census2019_18to64Pop', 'state',\n",
       "       'candidate_won', 'pct_trump', 'pct_biden', 'hesitant_x_nzip',\n",
       "       'somewhat_hesitant_x_nzip', 'highly_hesitant_x_nzip',\n",
       "       'Census2019_Pct_65Plus', 'Missing_March21', 'Missing_Sept21',\n",
       "       'Missing_March22', 'Dose1_Pop_Pct_090121_impute',\n",
       "       'Series_Complete_Pop_Pct_090121_impute'],\n",
       "      dtype='object')"
      ]
     },
     "execution_count": 17,
     "metadata": {},
     "output_type": "execute_result"
    }
   ],
   "source": [
    "df.columns"
   ]
  },
  {
   "cell_type": "code",
   "execution_count": 18,
   "id": "b67fba63-57b2-4055-a862-bd464f914413",
   "metadata": {},
   "outputs": [],
   "source": [
    "# Rename Columns\n",
    "rename_dict = {#'County_State':'County_State', \n",
    "                   'pct_hesitant_02-24-22':'Pct_Hesitant_Feb22',\n",
    "                   'pct_somewhat_hesitant_02-24-22': 'Pct_Somewhat_Hesitant_Feb22', \n",
    "                   'pct_highly_hesitant_02-24-22': 'Pct_Highly_Hesitant_Feb22',\n",
    "                   'uninsured_pct': 'Pct_Uninsured', \n",
    "                   'socio_wgt': 'SVI_Socio', \n",
    "                   'hh_wgt': 'SVI_HHDisab', \n",
    "                   'minority_wgt': 'SVI_Minority',\n",
    "                   'housing_wgt': 'SVI_HousingTransp', \n",
    "                   'overall_wgt': 'SVI_Overall', \n",
    "                  # 'Dose1_Pop_Pct_030121': 'Dose1_Pop_Pct_030121',\n",
    "                  # 'Series_Complete_Pop_Pct_030121': 'Series_Complete_Pop_Pct_030121', \n",
    "                  # 'Dose1_Pop_Pct_090121': 'Dose1_Pop_Pct_090121',\n",
    "                  # 'Series_Complete_Pop_Pct_090121', \n",
    "                  # 'Dose1_Pop_Pct_030122',\n",
    "                  # 'Series_Complete_Pop_Pct_030122',\n",
    "                   #'Booster_Doses_Vax_Pct_030122',\n",
    "                   'SVI_CTGY': 'SVI_Ctgy', \n",
    "                   'Metro_status': 'Metro_Status', \n",
    "                  # 'Census2019':, \n",
    "                  # 'Census2019_65PlusPop',\n",
    "                  # 'Census2019_18to64Pop', \n",
    "                   'state':'State', \n",
    "                   'candidate_won': 'Candidate_Won', \n",
    "                   'pct_trump': 'Pct_Trump', \n",
    "                   'pct_biden': 'Pct_Biden', \n",
    "                   'hesitant_x_nzip': 'Hesitant_nzip', \n",
    "                   'somewhat_hesitant_x_nzip': 'Somewhat_Hesitant_nzip',\n",
    "                   'highly_hesitant_x_nzip': 'Highly_Hesitant_nzip', \n",
    "                  # 'Census2019_Pct_65Plus', \n",
    "                   #'Missing_March21',\n",
    "                   #'Missing_Sept21', \n",
    "                  # 'Missing_March22', \n",
    "                  # 'Dose1_Pop_Pct_090121_impute',\n",
    "                  # 'Series_Complete_Pop_Pct_090121_impute'\n",
    "}\n",
    "df.rename(columns=rename_dict, inplace=True)"
   ]
  },
  {
   "cell_type": "code",
   "execution_count": 19,
   "id": "c758aaa3-d3b6-4b6b-9ad3-43e08ae785a7",
   "metadata": {},
   "outputs": [],
   "source": [
    "df.to_csv('../clean_data/final_data_formodeling.csv')"
   ]
  },
  {
   "cell_type": "markdown",
   "id": "608c1f9f-946b-4fca-910b-141224e8938c",
   "metadata": {},
   "source": [
    "## Model #1"
   ]
  },
  {
   "cell_type": "code",
   "execution_count": 20,
   "id": "860e3099-5b3c-4531-827b-465c3682fc6f",
   "metadata": {},
   "outputs": [],
   "source": [
    "feat = ['Pct_Hesitant_Feb22', 'Pct_Somewhat_Hesitant_Feb22',\n",
    "       'Pct_Highly_Hesitant_Feb22', \n",
    "       'Dose1_Pop_Pct_030121',\n",
    "        'Dose1_Pop_Pct_090121_impute',\n",
    "        'Dose1_Pop_Pct_030122',\n",
    "        'Series_Complete_Pop_Pct_090121_impute',\n",
    "       'Series_Complete_Pop_Pct_030122', \n",
    "        'Booster_Doses_Vax_Pct_030122',\n",
    "        'Missing_Sept21', \n",
    "       'SVI_Overall',\n",
    "        'Metro_Status', \n",
    "       'Census2019_Pct_65Plus']"
   ]
  },
  {
   "cell_type": "code",
   "execution_count": 21,
   "id": "ee433f38-ff06-4d83-bb29-045bb2f675af",
   "metadata": {},
   "outputs": [
    {
     "data": {
      "text/plain": [
       "Index(['Pct_Hesitant_Feb22', 'Pct_Somewhat_Hesitant_Feb22',\n",
       "       'Pct_Highly_Hesitant_Feb22', 'Dose1_Pop_Pct_030121',\n",
       "       'Dose1_Pop_Pct_090121_impute', 'Dose1_Pop_Pct_030122',\n",
       "       'Series_Complete_Pop_Pct_090121_impute',\n",
       "       'Series_Complete_Pop_Pct_030122', 'Booster_Doses_Vax_Pct_030122',\n",
       "       'Missing_Sept21', 'SVI_Overall', 'Metro_Status',\n",
       "       'Census2019_Pct_65Plus'],\n",
       "      dtype='object')"
      ]
     },
     "execution_count": 21,
     "metadata": {},
     "output_type": "execute_result"
    }
   ],
   "source": [
    "# Leave all vax data, including 0s\n",
    "\n",
    "X = df[feat]\n",
    "\n",
    "ss = StandardScaler()\n",
    "X_sc = ss.fit_transform(X)\n",
    "X.columns"
   ]
  },
  {
   "cell_type": "code",
   "execution_count": 22,
   "id": "1b41bd0a-4be6-4c7c-b7c3-bf74fb7e9477",
   "metadata": {},
   "outputs": [
    {
     "ename": "AttributeError",
     "evalue": "'NoneType' object has no attribute 'split'",
     "output_type": "error",
     "traceback": [
      "\u001b[1;31m---------------------------------------------------------------------------\u001b[0m",
      "\u001b[1;31mAttributeError\u001b[0m                            Traceback (most recent call last)",
      "\u001b[1;32m~\\AppData\\Local\\Temp/ipykernel_21232/2504477799.py\u001b[0m in \u001b[0;36m<module>\u001b[1;34m\u001b[0m\n\u001b[0;32m      6\u001b[0m \u001b[1;32mfor\u001b[0m \u001b[0mk\u001b[0m \u001b[1;32min\u001b[0m \u001b[0mrange\u001b[0m\u001b[1;33m(\u001b[0m\u001b[1;36m1\u001b[0m\u001b[1;33m,\u001b[0m \u001b[1;36m10\u001b[0m\u001b[1;33m)\u001b[0m\u001b[1;33m:\u001b[0m\u001b[1;33m\u001b[0m\u001b[1;33m\u001b[0m\u001b[0m\n\u001b[0;32m      7\u001b[0m     \u001b[0mkmeans\u001b[0m \u001b[1;33m=\u001b[0m \u001b[0mKMeans\u001b[0m\u001b[1;33m(\u001b[0m\u001b[0mn_clusters\u001b[0m\u001b[1;33m=\u001b[0m\u001b[0mk\u001b[0m\u001b[1;33m,\u001b[0m \u001b[0mrandom_state\u001b[0m\u001b[1;33m=\u001b[0m\u001b[1;36m42\u001b[0m\u001b[1;33m)\u001b[0m\u001b[1;33m\u001b[0m\u001b[1;33m\u001b[0m\u001b[0m\n\u001b[1;32m----> 8\u001b[1;33m     \u001b[0mkmeans\u001b[0m\u001b[1;33m.\u001b[0m\u001b[0mfit\u001b[0m\u001b[1;33m(\u001b[0m\u001b[0mX_sc\u001b[0m\u001b[1;33m)\u001b[0m\u001b[1;33m\u001b[0m\u001b[1;33m\u001b[0m\u001b[0m\n\u001b[0m\u001b[0;32m      9\u001b[0m     \u001b[0minertia_list\u001b[0m\u001b[1;33m.\u001b[0m\u001b[0mappend\u001b[0m\u001b[1;33m(\u001b[0m\u001b[0mkmeans\u001b[0m\u001b[1;33m.\u001b[0m\u001b[0minertia_\u001b[0m\u001b[1;33m)\u001b[0m\u001b[1;33m\u001b[0m\u001b[1;33m\u001b[0m\u001b[0m\n\u001b[0;32m     10\u001b[0m \u001b[1;33m\u001b[0m\u001b[0m\n",
      "\u001b[1;32m~\\anaconda3\\lib\\site-packages\\sklearn\\cluster\\_kmeans.py\u001b[0m in \u001b[0;36mfit\u001b[1;34m(self, X, y, sample_weight)\u001b[0m\n\u001b[0;32m   1021\u001b[0m \u001b[1;33m\u001b[0m\u001b[0m\n\u001b[0;32m   1022\u001b[0m             \u001b[1;31m# run a k-means once\u001b[0m\u001b[1;33m\u001b[0m\u001b[1;33m\u001b[0m\u001b[0m\n\u001b[1;32m-> 1023\u001b[1;33m             labels, inertia, centers, n_iter_ = kmeans_single(\n\u001b[0m\u001b[0;32m   1024\u001b[0m                 \u001b[0mX\u001b[0m\u001b[1;33m,\u001b[0m \u001b[0msample_weight\u001b[0m\u001b[1;33m,\u001b[0m \u001b[0mcenters_init\u001b[0m\u001b[1;33m,\u001b[0m \u001b[0mmax_iter\u001b[0m\u001b[1;33m=\u001b[0m\u001b[0mself\u001b[0m\u001b[1;33m.\u001b[0m\u001b[0mmax_iter\u001b[0m\u001b[1;33m,\u001b[0m\u001b[1;33m\u001b[0m\u001b[1;33m\u001b[0m\u001b[0m\n\u001b[0;32m   1025\u001b[0m                 \u001b[0mverbose\u001b[0m\u001b[1;33m=\u001b[0m\u001b[0mself\u001b[0m\u001b[1;33m.\u001b[0m\u001b[0mverbose\u001b[0m\u001b[1;33m,\u001b[0m \u001b[0mtol\u001b[0m\u001b[1;33m=\u001b[0m\u001b[0mself\u001b[0m\u001b[1;33m.\u001b[0m\u001b[0m_tol\u001b[0m\u001b[1;33m,\u001b[0m\u001b[1;33m\u001b[0m\u001b[1;33m\u001b[0m\u001b[0m\n",
      "\u001b[1;32m~\\anaconda3\\lib\\site-packages\\sklearn\\cluster\\_kmeans.py\u001b[0m in \u001b[0;36m_kmeans_single_lloyd\u001b[1;34m(X, sample_weight, centers_init, max_iter, verbose, x_squared_norms, tol, n_threads)\u001b[0m\n\u001b[0;32m    503\u001b[0m     \u001b[1;31m# Threadpoolctl context to limit the number of threads in second level of\u001b[0m\u001b[1;33m\u001b[0m\u001b[1;33m\u001b[0m\u001b[0m\n\u001b[0;32m    504\u001b[0m     \u001b[1;31m# nested parallelism (i.e. BLAS) to avoid oversubsciption.\u001b[0m\u001b[1;33m\u001b[0m\u001b[1;33m\u001b[0m\u001b[0m\n\u001b[1;32m--> 505\u001b[1;33m     \u001b[1;32mwith\u001b[0m \u001b[0mthreadpool_limits\u001b[0m\u001b[1;33m(\u001b[0m\u001b[0mlimits\u001b[0m\u001b[1;33m=\u001b[0m\u001b[1;36m1\u001b[0m\u001b[1;33m,\u001b[0m \u001b[0muser_api\u001b[0m\u001b[1;33m=\u001b[0m\u001b[1;34m\"blas\"\u001b[0m\u001b[1;33m)\u001b[0m\u001b[1;33m:\u001b[0m\u001b[1;33m\u001b[0m\u001b[1;33m\u001b[0m\u001b[0m\n\u001b[0m\u001b[0;32m    506\u001b[0m         \u001b[1;32mfor\u001b[0m \u001b[0mi\u001b[0m \u001b[1;32min\u001b[0m \u001b[0mrange\u001b[0m\u001b[1;33m(\u001b[0m\u001b[0mmax_iter\u001b[0m\u001b[1;33m)\u001b[0m\u001b[1;33m:\u001b[0m\u001b[1;33m\u001b[0m\u001b[1;33m\u001b[0m\u001b[0m\n\u001b[0;32m    507\u001b[0m             lloyd_iter(X, sample_weight, x_squared_norms, centers, centers_new,\n",
      "\u001b[1;32m~\\anaconda3\\lib\\site-packages\\threadpoolctl.py\u001b[0m in \u001b[0;36m__init__\u001b[1;34m(self, limits, user_api)\u001b[0m\n\u001b[0;32m    169\u001b[0m             \u001b[0mself\u001b[0m\u001b[1;33m.\u001b[0m\u001b[0m_check_params\u001b[0m\u001b[1;33m(\u001b[0m\u001b[0mlimits\u001b[0m\u001b[1;33m,\u001b[0m \u001b[0muser_api\u001b[0m\u001b[1;33m)\u001b[0m\u001b[1;33m\u001b[0m\u001b[1;33m\u001b[0m\u001b[0m\n\u001b[0;32m    170\u001b[0m \u001b[1;33m\u001b[0m\u001b[0m\n\u001b[1;32m--> 171\u001b[1;33m         \u001b[0mself\u001b[0m\u001b[1;33m.\u001b[0m\u001b[0m_original_info\u001b[0m \u001b[1;33m=\u001b[0m \u001b[0mself\u001b[0m\u001b[1;33m.\u001b[0m\u001b[0m_set_threadpool_limits\u001b[0m\u001b[1;33m(\u001b[0m\u001b[1;33m)\u001b[0m\u001b[1;33m\u001b[0m\u001b[1;33m\u001b[0m\u001b[0m\n\u001b[0m\u001b[0;32m    172\u001b[0m \u001b[1;33m\u001b[0m\u001b[0m\n\u001b[0;32m    173\u001b[0m     \u001b[1;32mdef\u001b[0m \u001b[0m__enter__\u001b[0m\u001b[1;33m(\u001b[0m\u001b[0mself\u001b[0m\u001b[1;33m)\u001b[0m\u001b[1;33m:\u001b[0m\u001b[1;33m\u001b[0m\u001b[1;33m\u001b[0m\u001b[0m\n",
      "\u001b[1;32m~\\anaconda3\\lib\\site-packages\\threadpoolctl.py\u001b[0m in \u001b[0;36m_set_threadpool_limits\u001b[1;34m(self)\u001b[0m\n\u001b[0;32m    266\u001b[0m             \u001b[1;32mreturn\u001b[0m \u001b[1;32mNone\u001b[0m\u001b[1;33m\u001b[0m\u001b[1;33m\u001b[0m\u001b[0m\n\u001b[0;32m    267\u001b[0m \u001b[1;33m\u001b[0m\u001b[0m\n\u001b[1;32m--> 268\u001b[1;33m         modules = _ThreadpoolInfo(prefixes=self._prefixes,\n\u001b[0m\u001b[0;32m    269\u001b[0m                                   user_api=self._user_api)\n\u001b[0;32m    270\u001b[0m         \u001b[1;32mfor\u001b[0m \u001b[0mmodule\u001b[0m \u001b[1;32min\u001b[0m \u001b[0mmodules\u001b[0m\u001b[1;33m:\u001b[0m\u001b[1;33m\u001b[0m\u001b[1;33m\u001b[0m\u001b[0m\n",
      "\u001b[1;32m~\\anaconda3\\lib\\site-packages\\threadpoolctl.py\u001b[0m in \u001b[0;36m__init__\u001b[1;34m(self, user_api, prefixes, modules)\u001b[0m\n\u001b[0;32m    338\u001b[0m \u001b[1;33m\u001b[0m\u001b[0m\n\u001b[0;32m    339\u001b[0m             \u001b[0mself\u001b[0m\u001b[1;33m.\u001b[0m\u001b[0mmodules\u001b[0m \u001b[1;33m=\u001b[0m \u001b[1;33m[\u001b[0m\u001b[1;33m]\u001b[0m\u001b[1;33m\u001b[0m\u001b[1;33m\u001b[0m\u001b[0m\n\u001b[1;32m--> 340\u001b[1;33m             \u001b[0mself\u001b[0m\u001b[1;33m.\u001b[0m\u001b[0m_load_modules\u001b[0m\u001b[1;33m(\u001b[0m\u001b[1;33m)\u001b[0m\u001b[1;33m\u001b[0m\u001b[1;33m\u001b[0m\u001b[0m\n\u001b[0m\u001b[0;32m    341\u001b[0m             \u001b[0mself\u001b[0m\u001b[1;33m.\u001b[0m\u001b[0m_warn_if_incompatible_openmp\u001b[0m\u001b[1;33m(\u001b[0m\u001b[1;33m)\u001b[0m\u001b[1;33m\u001b[0m\u001b[1;33m\u001b[0m\u001b[0m\n\u001b[0;32m    342\u001b[0m         \u001b[1;32melse\u001b[0m\u001b[1;33m:\u001b[0m\u001b[1;33m\u001b[0m\u001b[1;33m\u001b[0m\u001b[0m\n",
      "\u001b[1;32m~\\anaconda3\\lib\\site-packages\\threadpoolctl.py\u001b[0m in \u001b[0;36m_load_modules\u001b[1;34m(self)\u001b[0m\n\u001b[0;32m    371\u001b[0m             \u001b[0mself\u001b[0m\u001b[1;33m.\u001b[0m\u001b[0m_find_modules_with_dyld\u001b[0m\u001b[1;33m(\u001b[0m\u001b[1;33m)\u001b[0m\u001b[1;33m\u001b[0m\u001b[1;33m\u001b[0m\u001b[0m\n\u001b[0;32m    372\u001b[0m         \u001b[1;32melif\u001b[0m \u001b[0msys\u001b[0m\u001b[1;33m.\u001b[0m\u001b[0mplatform\u001b[0m \u001b[1;33m==\u001b[0m \u001b[1;34m\"win32\"\u001b[0m\u001b[1;33m:\u001b[0m\u001b[1;33m\u001b[0m\u001b[1;33m\u001b[0m\u001b[0m\n\u001b[1;32m--> 373\u001b[1;33m             \u001b[0mself\u001b[0m\u001b[1;33m.\u001b[0m\u001b[0m_find_modules_with_enum_process_module_ex\u001b[0m\u001b[1;33m(\u001b[0m\u001b[1;33m)\u001b[0m\u001b[1;33m\u001b[0m\u001b[1;33m\u001b[0m\u001b[0m\n\u001b[0m\u001b[0;32m    374\u001b[0m         \u001b[1;32melse\u001b[0m\u001b[1;33m:\u001b[0m\u001b[1;33m\u001b[0m\u001b[1;33m\u001b[0m\u001b[0m\n\u001b[0;32m    375\u001b[0m             \u001b[0mself\u001b[0m\u001b[1;33m.\u001b[0m\u001b[0m_find_modules_with_dl_iterate_phdr\u001b[0m\u001b[1;33m(\u001b[0m\u001b[1;33m)\u001b[0m\u001b[1;33m\u001b[0m\u001b[1;33m\u001b[0m\u001b[0m\n",
      "\u001b[1;32m~\\anaconda3\\lib\\site-packages\\threadpoolctl.py\u001b[0m in \u001b[0;36m_find_modules_with_enum_process_module_ex\u001b[1;34m(self)\u001b[0m\n\u001b[0;32m    483\u001b[0m \u001b[1;33m\u001b[0m\u001b[0m\n\u001b[0;32m    484\u001b[0m                 \u001b[1;31m# Store the module if it is supported and selected\u001b[0m\u001b[1;33m\u001b[0m\u001b[1;33m\u001b[0m\u001b[0m\n\u001b[1;32m--> 485\u001b[1;33m                 \u001b[0mself\u001b[0m\u001b[1;33m.\u001b[0m\u001b[0m_make_module_from_path\u001b[0m\u001b[1;33m(\u001b[0m\u001b[0mfilepath\u001b[0m\u001b[1;33m)\u001b[0m\u001b[1;33m\u001b[0m\u001b[1;33m\u001b[0m\u001b[0m\n\u001b[0m\u001b[0;32m    486\u001b[0m         \u001b[1;32mfinally\u001b[0m\u001b[1;33m:\u001b[0m\u001b[1;33m\u001b[0m\u001b[1;33m\u001b[0m\u001b[0m\n\u001b[0;32m    487\u001b[0m             \u001b[0mkernel_32\u001b[0m\u001b[1;33m.\u001b[0m\u001b[0mCloseHandle\u001b[0m\u001b[1;33m(\u001b[0m\u001b[0mh_process\u001b[0m\u001b[1;33m)\u001b[0m\u001b[1;33m\u001b[0m\u001b[1;33m\u001b[0m\u001b[0m\n",
      "\u001b[1;32m~\\anaconda3\\lib\\site-packages\\threadpoolctl.py\u001b[0m in \u001b[0;36m_make_module_from_path\u001b[1;34m(self, filepath)\u001b[0m\n\u001b[0;32m    513\u001b[0m             \u001b[1;32mif\u001b[0m \u001b[0mprefix\u001b[0m \u001b[1;32min\u001b[0m \u001b[0mself\u001b[0m\u001b[1;33m.\u001b[0m\u001b[0mprefixes\u001b[0m \u001b[1;32mor\u001b[0m \u001b[0muser_api\u001b[0m \u001b[1;32min\u001b[0m \u001b[0mself\u001b[0m\u001b[1;33m.\u001b[0m\u001b[0muser_api\u001b[0m\u001b[1;33m:\u001b[0m\u001b[1;33m\u001b[0m\u001b[1;33m\u001b[0m\u001b[0m\n\u001b[0;32m    514\u001b[0m                 \u001b[0mmodule_class\u001b[0m \u001b[1;33m=\u001b[0m \u001b[0mglobals\u001b[0m\u001b[1;33m(\u001b[0m\u001b[1;33m)\u001b[0m\u001b[1;33m[\u001b[0m\u001b[0mmodule_class\u001b[0m\u001b[1;33m]\u001b[0m\u001b[1;33m\u001b[0m\u001b[1;33m\u001b[0m\u001b[0m\n\u001b[1;32m--> 515\u001b[1;33m                 \u001b[0mmodule\u001b[0m \u001b[1;33m=\u001b[0m \u001b[0mmodule_class\u001b[0m\u001b[1;33m(\u001b[0m\u001b[0mfilepath\u001b[0m\u001b[1;33m,\u001b[0m \u001b[0mprefix\u001b[0m\u001b[1;33m,\u001b[0m \u001b[0muser_api\u001b[0m\u001b[1;33m,\u001b[0m \u001b[0minternal_api\u001b[0m\u001b[1;33m)\u001b[0m\u001b[1;33m\u001b[0m\u001b[1;33m\u001b[0m\u001b[0m\n\u001b[0m\u001b[0;32m    516\u001b[0m                 \u001b[0mself\u001b[0m\u001b[1;33m.\u001b[0m\u001b[0mmodules\u001b[0m\u001b[1;33m.\u001b[0m\u001b[0mappend\u001b[0m\u001b[1;33m(\u001b[0m\u001b[0mmodule\u001b[0m\u001b[1;33m)\u001b[0m\u001b[1;33m\u001b[0m\u001b[1;33m\u001b[0m\u001b[0m\n\u001b[0;32m    517\u001b[0m \u001b[1;33m\u001b[0m\u001b[0m\n",
      "\u001b[1;32m~\\anaconda3\\lib\\site-packages\\threadpoolctl.py\u001b[0m in \u001b[0;36m__init__\u001b[1;34m(self, filepath, prefix, user_api, internal_api)\u001b[0m\n\u001b[0;32m    604\u001b[0m         \u001b[0mself\u001b[0m\u001b[1;33m.\u001b[0m\u001b[0minternal_api\u001b[0m \u001b[1;33m=\u001b[0m \u001b[0minternal_api\u001b[0m\u001b[1;33m\u001b[0m\u001b[1;33m\u001b[0m\u001b[0m\n\u001b[0;32m    605\u001b[0m         \u001b[0mself\u001b[0m\u001b[1;33m.\u001b[0m\u001b[0m_dynlib\u001b[0m \u001b[1;33m=\u001b[0m \u001b[0mctypes\u001b[0m\u001b[1;33m.\u001b[0m\u001b[0mCDLL\u001b[0m\u001b[1;33m(\u001b[0m\u001b[0mfilepath\u001b[0m\u001b[1;33m,\u001b[0m \u001b[0mmode\u001b[0m\u001b[1;33m=\u001b[0m\u001b[0m_RTLD_NOLOAD\u001b[0m\u001b[1;33m)\u001b[0m\u001b[1;33m\u001b[0m\u001b[1;33m\u001b[0m\u001b[0m\n\u001b[1;32m--> 606\u001b[1;33m         \u001b[0mself\u001b[0m\u001b[1;33m.\u001b[0m\u001b[0mversion\u001b[0m \u001b[1;33m=\u001b[0m \u001b[0mself\u001b[0m\u001b[1;33m.\u001b[0m\u001b[0mget_version\u001b[0m\u001b[1;33m(\u001b[0m\u001b[1;33m)\u001b[0m\u001b[1;33m\u001b[0m\u001b[1;33m\u001b[0m\u001b[0m\n\u001b[0m\u001b[0;32m    607\u001b[0m         \u001b[0mself\u001b[0m\u001b[1;33m.\u001b[0m\u001b[0mnum_threads\u001b[0m \u001b[1;33m=\u001b[0m \u001b[0mself\u001b[0m\u001b[1;33m.\u001b[0m\u001b[0mget_num_threads\u001b[0m\u001b[1;33m(\u001b[0m\u001b[1;33m)\u001b[0m\u001b[1;33m\u001b[0m\u001b[1;33m\u001b[0m\u001b[0m\n\u001b[0;32m    608\u001b[0m         \u001b[0mself\u001b[0m\u001b[1;33m.\u001b[0m\u001b[0m_get_extra_info\u001b[0m\u001b[1;33m(\u001b[0m\u001b[1;33m)\u001b[0m\u001b[1;33m\u001b[0m\u001b[1;33m\u001b[0m\u001b[0m\n",
      "\u001b[1;32m~\\anaconda3\\lib\\site-packages\\threadpoolctl.py\u001b[0m in \u001b[0;36mget_version\u001b[1;34m(self)\u001b[0m\n\u001b[0;32m    644\u001b[0m                              lambda: None)\n\u001b[0;32m    645\u001b[0m         \u001b[0mget_config\u001b[0m\u001b[1;33m.\u001b[0m\u001b[0mrestype\u001b[0m \u001b[1;33m=\u001b[0m \u001b[0mctypes\u001b[0m\u001b[1;33m.\u001b[0m\u001b[0mc_char_p\u001b[0m\u001b[1;33m\u001b[0m\u001b[1;33m\u001b[0m\u001b[0m\n\u001b[1;32m--> 646\u001b[1;33m         \u001b[0mconfig\u001b[0m \u001b[1;33m=\u001b[0m \u001b[0mget_config\u001b[0m\u001b[1;33m(\u001b[0m\u001b[1;33m)\u001b[0m\u001b[1;33m.\u001b[0m\u001b[0msplit\u001b[0m\u001b[1;33m(\u001b[0m\u001b[1;33m)\u001b[0m\u001b[1;33m\u001b[0m\u001b[1;33m\u001b[0m\u001b[0m\n\u001b[0m\u001b[0;32m    647\u001b[0m         \u001b[1;32mif\u001b[0m \u001b[0mconfig\u001b[0m\u001b[1;33m[\u001b[0m\u001b[1;36m0\u001b[0m\u001b[1;33m]\u001b[0m \u001b[1;33m==\u001b[0m \u001b[1;34mb\"OpenBLAS\"\u001b[0m\u001b[1;33m:\u001b[0m\u001b[1;33m\u001b[0m\u001b[1;33m\u001b[0m\u001b[0m\n\u001b[0;32m    648\u001b[0m             \u001b[1;32mreturn\u001b[0m \u001b[0mconfig\u001b[0m\u001b[1;33m[\u001b[0m\u001b[1;36m1\u001b[0m\u001b[1;33m]\u001b[0m\u001b[1;33m.\u001b[0m\u001b[0mdecode\u001b[0m\u001b[1;33m(\u001b[0m\u001b[1;34m\"utf-8\"\u001b[0m\u001b[1;33m)\u001b[0m\u001b[1;33m\u001b[0m\u001b[1;33m\u001b[0m\u001b[0m\n",
      "\u001b[1;31mAttributeError\u001b[0m: 'NoneType' object has no attribute 'split'"
     ]
    }
   ],
   "source": [
    "# Try different values of n_clusters using elbow plots\n",
    "\n",
    "# Inertia\n",
    "inertia_list = []\n",
    "\n",
    "for k in range(1, 10):\n",
    "    kmeans = KMeans(n_clusters=k, random_state=42)\n",
    "    kmeans.fit(X_sc)\n",
    "    inertia_list.append(kmeans.inertia_)\n",
    "    \n",
    "plt.plot(range(1, 10), inertia_list, marker='o')\n",
    "plt.xlabel('# of Clusters')\n",
    "plt.ylabel('Score')\n",
    "plt.title('Inertia Scores');"
   ]
  },
  {
   "cell_type": "code",
   "execution_count": 24,
   "id": "501706ab-fdb3-45e3-9d6a-2aeee1cf64d3",
   "metadata": {},
   "outputs": [
    {
     "data": {
      "image/png": "[encoded data removed]",
      "text/plain": [
       "<Figure size 432x288 with 1 Axes>"
      ]
     },
     "metadata": {
      "needs_background": "light"
     },
     "output_type": "display_data"
    }
   ],
   "source": [
    "# Silhouette Score\n",
    "silhouette_list = []\n",
    "\n",
    "for k in range(2,10):\n",
    "    kmeans = KMeans(n_clusters=k, random_state=42)\n",
    "    kmeans.fit(X_sc)\n",
    "    silhouette_list.append(silhouette_score(X_sc, kmeans.labels_))\n",
    "\n",
    "plt.plot(range(2,10), silhouette_list, marker = 'o')\n",
    "plt.xlabel('# of clusters')\n",
    "plt.ylabel('Score')\n",
    "plt.title('Silhouette Scores')\n",
    "plt.savefig('../Graphs/Silhouette Score.png')"
   ]
  },
  {
   "cell_type": "code",
   "execution_count": null,
   "id": "0f1058c1-5112-4d09-b8ac-f9bcf8d270b2",
   "metadata": {},
   "outputs": [],
   "source": [
    "# Proceed with 3 clusters\n",
    "\n",
    "kmeans = KMeans(n_clusters=3, random_state=42)\n",
    "kmeans.fit(X_sc)\n",
    "\n",
    "df['Cluster'] = kmeans.labels_\n",
    "df['Cluster'].value_counts(normalize=True)"
   ]
  },
  {
   "cell_type": "code",
   "execution_count": null,
   "id": "301a30fa-1cda-4c28-ba31-9a0b593c4a75",
   "metadata": {},
   "outputs": [],
   "source": [
    "# score the model\n",
    "print(f'inertia: {kmeans.inertia_}')\n",
    "print(f'silhouette score {silhouette_score(X_sc, kmeans.labels_)}')"
   ]
  },
  {
   "cell_type": "markdown",
   "id": "883827b0-6780-4029-a1c3-f0ff880ff95c",
   "metadata": {},
   "source": [
    "## Understanding Model Results"
   ]
  },
  {
   "cell_type": "code",
   "execution_count": null,
   "id": "ff754051-1527-46f4-8139-aedeb6b56864",
   "metadata": {},
   "outputs": [],
   "source": [
    "# Cluster frequencies by state\n",
    "pd.get_dummies(df, columns=['Cluster'])[['State', 'Cluster_0', 'Cluster_1', 'Cluster_2']].groupby('State').sum().sort_values('Cluster_0', ascending=False)"
   ]
  },
  {
   "cell_type": "code",
   "execution_count": null,
   "id": "d2875be8-4208-44f2-89dc-e564e1e3d95a",
   "metadata": {},
   "outputs": [],
   "source": [
    "# Cluster means in model features\n",
    "df.groupby('Cluster').mean()[feat].T"
   ]
  },
  {
   "cell_type": "code",
   "execution_count": null,
   "id": "c73b3caa-bd4b-494f-bd2f-3b18e4e17370",
   "metadata": {},
   "outputs": [],
   "source": [
    "# Cluster means for other features\n",
    "df.groupby('Cluster').mean()[['Missing_March21', 'Missing_Sept21', 'Missing_March22', 'SVI_Minority', 'SVI_Socio', 'Pct_Trump', 'Candidate_Won']].T"
   ]
  },
  {
   "cell_type": "code",
   "execution_count": null,
   "id": "212e5224-d5af-4cd3-8e47-59b273590af7",
   "metadata": {},
   "outputs": [],
   "source": [
    "# Baseline Trump victory rate\n",
    "df[['Candidate_Won']].mean()"
   ]
  },
  {
   "cell_type": "code",
   "execution_count": null,
   "id": "70d2b452-2348-4753-a27e-87c625230e6d",
   "metadata": {},
   "outputs": [],
   "source": [
    "# Total population in each cluster\n",
    "df.groupby('Cluster')[['Census2019']].sum().T"
   ]
  },
  {
   "cell_type": "markdown",
   "id": "4a175fc8-a61a-4393-a271-e2eeb2c01067",
   "metadata": {},
   "source": [
    "**Summary of observations from clustering model:**\n",
    "\n",
    "*Cluster 0*\n",
    "\n",
    "- These counties have the highest vaccine hesitancy, but their vaccination rates are in the middle of the pack. This could be due to Cluster 2's vaccination averages being brought down by non-reporting.\n",
    "- These counties are generally rural (metro status=0); their social vulnerability is high as measured by socioeconomic status and about the same overall as Cluster 2's.\n",
    "- Trump won the election in 94.8% of these counties, the highest percent among all the clusters.\n",
    "- Overall this cluster appears demographically and politically similar to Cluster 2.\n",
    "\n",
    "*Cluster 1*\n",
    "\n",
    "- These counties have the lowest hesitancy and highest vaccination rates overall.\n",
    "- These counties are most urban (metro status=1) on average and comprise the largest total population (about 5x the population of Cluster 0 and 8x the population of Cluster 2).\n",
    "- These counties have the lowest social vulnerability rankings overall and by socioeconomic status, but they contain more minority population than Cluster 0.\n",
    "- These counties had the lowest rates of voting for Trump, with Trump victory occurring in 64% of counties compared to 83% nationwide.\n",
    "\n",
    "*Cluster 2*\n",
    "\n",
    "- Most counties that did not report vaccination data are in this cluster. Nearly half of these counties are in Texas.\n",
    "- Possibly due to non-reporting, these counties' vaccination rates are the lowest. The hesitancy rates (17.8% on average are highly hesitant), however, support the hypothesis that vaccination efforts have in fact faced barriers in these counties.\n",
    "- These counties have the highest social based on minority status, but comparable overall social vulnerability to Cluster 0.\n",
    "- These counties had an above-average rate of Trump election victory, but not as high a rate as Cluster 0.\n"
   ]
  },
  {
   "cell_type": "markdown",
   "id": "47199f44-52d7-4cce-ba00-95bbd7085386",
   "metadata": {},
   "source": [
    "## Visualizing Clusters"
   ]
  },
  {
   "cell_type": "code",
   "execution_count": null,
   "id": "af3a4cd3-aae1-4a78-8edb-6ed078dbb765",
   "metadata": {
    "tags": []
   },
   "outputs": [],
   "source": [
    "df['color'] = df['Cluster'].map({0:'#00919C', 1:'#E8B44F', 2:'#BE5504'})\n",
    "\n",
    "plt.figure(figsize=(10,8))\n",
    "plt.scatter(df['Dose1_Pop_Pct_090121_impute'], df['Pct_Hesitant_Feb22'], c=df['color'], alpha=.6)\n",
    "pop_a = mpatches.Patch(color='#00919C', label='Cluster 0')\n",
    "pop_b = mpatches.Patch(color='#E8B44F', label='Cluster 1')\n",
    "pop_c = mpatches.Patch(color='#BE5504', label='Cluster 2')\n",
    "plt.legend(handles=[pop_a,pop_b, pop_c])\n",
    "\n",
    "plt.xlabel('Percent with one vaccine dose 9/1/21')\n",
    "plt.ylabel('Percent hesitant 2/24/21')\n",
    "plt.title('Vaccination and Hesitancy, showing KMeans clusters')\n",
    "plt.savefig('../graphs/cluster_onevax_hesitant.png', facecolor='w', transparent=False, dpi = 1000, bbox_inches='tight');"
   ]
  },
  {
   "cell_type": "code",
   "execution_count": null,
   "id": "9d132f5b-85ab-4319-8d34-f8d56f0fa575",
   "metadata": {},
   "outputs": [],
   "source": [
    "plt.figure(figsize=(10,8))\n",
    "plt.scatter(df['Series_Complete_Pop_Pct_090121_impute'], df['Pct_Trump'], c=df['color'], alpha=.6)\n",
    "\n",
    "pop_a = mpatches.Patch(color='#00919C', label='Cluster 0')\n",
    "pop_b = mpatches.Patch(color='#E8B44F', label='Cluster 1')\n",
    "pop_c = mpatches.Patch(color='#BE5504', label='Cluster 2')\n",
    "plt.legend(handles=[pop_a,pop_b, pop_c])\n",
    "\n",
    "plt.xlabel('Percent fully vaccinated by 9/1/21')\n",
    "plt.ylabel('Percent voted for Trump')\n",
    "plt.title('Vaccination and 2020 voting, showing KMeans clusters')\n",
    "plt.savefig('../graphs/cluster_fullvax_hesitant.png', facecolor='w', transparent=False, dpi = 1000, bbox_inches='tight');"
   ]
  },
  {
   "cell_type": "code",
   "execution_count": null,
   "id": "5e77f202-3203-49ac-8484-0a9438516da0",
   "metadata": {},
   "outputs": [],
   "source": [
    "plt.figure(figsize=(8,8))\n",
    "plt.scatter(df['SVI_Overall'], df['Pct_Trump'], c=df['color'], alpha=.6)\n",
    "\n",
    "pop_a = mpatches.Patch(color='#00919C', label='Cluster 0')\n",
    "pop_b = mpatches.Patch(color='#E8B44F', label='Cluster 1')\n",
    "pop_c = mpatches.Patch(color='#BE5504', label='Cluster 2')\n",
    "plt.legend(handles=[pop_a,pop_b, pop_c])\n",
    "\n",
    "plt.xlabel('Overall SVI percentile')\n",
    "plt.ylabel('Percent voted for Trump')\n",
    "plt.title('SVI and Presidential Election Results, showing KMeans clusters')\n",
    "plt.savefig('../graphs/cluster_svi_trump.png', facecolor='w', transparent=False, dpi = 1000, bbox_inches='tight');"
   ]
  },
  {
   "cell_type": "code",
   "execution_count": null,
   "id": "01428daa-996e-47f1-992a-4662fa0edcc0",
   "metadata": {},
   "outputs": [],
   "source": [
    "plt.figure(figsize=(10,8))\n",
    "plt.scatter(df['Census2019_Pct_65Plus'], df['Pct_Trump'], c=df['color'], alpha=.5)\n",
    "\n",
    "pop_a = mpatches.Patch(color='#00919C', label='Cluster 0')\n",
    "pop_b = mpatches.Patch(color='#E8B44F', label='Cluster 1')\n",
    "pop_c = mpatches.Patch(color='#BE5504', label='Cluster 2')\n",
    "plt.legend(handles=[pop_a,pop_b, pop_c])\n",
    "\n",
    "plt.xlabel('Percent of population over 65')\n",
    "plt.ylabel('Percent voted for Trump')\n",
    "plt.title('Over-65 Population and 2020 Election Results, showing KMeans clusters')\n",
    "plt.savefig('../graphs/cluster_65plus_trump.png', facecolor='w', transparent=False, dpi = 1000, bbox_inches='tight');"
   ]
  },
  {
   "cell_type": "code",
   "execution_count": null,
   "id": "cff329e2-8522-4a8b-bdbf-35872978ed51",
   "metadata": {},
   "outputs": [],
   "source": [
    "cluster0 = df[df['Cluster'] == 0]\n",
    "cluster1 = df[df['Cluster'] == 1]\n",
    "cluster2 = df[df['Cluster'] == 2]\n",
    "\n",
    "plt.figure(figsize=(8,6))\n",
    "\n",
    "plt.hist(cluster0['Dose1_Pop_Pct_030121'], alpha=.5, bins=20, color='#00919C')\n",
    "plt.axvline(cluster0['Dose1_Pop_Pct_030121'].mean(), color='#00919C')\n",
    "\n",
    "plt.hist(cluster1['Dose1_Pop_Pct_030121'], alpha=.5, bins=20, color='#E8B44F')\n",
    "plt.axvline(cluster1['Dose1_Pop_Pct_030121'].mean(), color='#E8B44F')\n",
    "\n",
    "plt.hist(cluster2['Dose1_Pop_Pct_030121'], alpha=.5, bins=20, color='#BE5504')\n",
    "plt.axvline(cluster2['Dose1_Pop_Pct_030121'].mean(), color='#BE5504')\n",
    "\n",
    "#plt.xticks(range(0, 110, 10))\n",
    "#plt.legend()\n",
    "plt.title('Histogram of Vaccination Rates in March 2021 by Cluster')\n",
    "plt.xlabel('Percent of population that received at least one vaccine dose')\n",
    "plt.ylabel('Frequency')\n",
    "plt.savefig('../graphs/cluster_0321_onevax.png', facecolor='w', transparent=False, dpi = 1000, bbox_inches='tight');"
   ]
  },
  {
   "cell_type": "code",
   "execution_count": null,
   "id": "f954e427-a2e4-424f-a81e-5fa1dee0292f",
   "metadata": {},
   "outputs": [],
   "source": [
    "plt.figure(figsize=(8,6))\n",
    "\n",
    "plt.hist(cluster0['Dose1_Pop_Pct_090121_impute'], alpha=.5, bins=20, color='#00919C')\n",
    "plt.axvline(cluster0['Dose1_Pop_Pct_090121_impute'].mean(), color='#00919C')\n",
    "\n",
    "plt.hist(cluster1['Dose1_Pop_Pct_090121_impute'], alpha=.5, bins=20, color='#E8B44F')\n",
    "plt.axvline(cluster1['Dose1_Pop_Pct_090121_impute'].mean(), color='#E8B44F')\n",
    "\n",
    "plt.hist(cluster2['Dose1_Pop_Pct_090121_impute'], alpha=.5, bins=20, color='#BE5504')\n",
    "plt.axvline(cluster2['Dose1_Pop_Pct_090121_impute'].mean(), color='#BE5504')\n",
    "\n",
    "plt.xticks(range(0, 110, 10))\n",
    "#plt.legend()\n",
    "plt.title('Histogram of Vaccination Rates in September 2021 by Cluster')\n",
    "plt.xlabel('Percent of population that received at least one vaccine dose')\n",
    "plt.ylabel('Frequency')\n",
    "plt.savefig('../graphs/cluster_0921_onevax_imputed.png', facecolor='w', transparent=False, dpi = 1000, bbox_inches='tight');"
   ]
  },
  {
   "cell_type": "code",
   "execution_count": null,
   "id": "10961e00-2468-4ba9-9951-6694a9b560ef",
   "metadata": {},
   "outputs": [],
   "source": [
    "plt.figure(figsize=(8,6))\n",
    "\n",
    "plt.hist(cluster0['Dose1_Pop_Pct_030122'], alpha=.5, bins=20, color='#00919C')\n",
    "plt.axvline(cluster0['Dose1_Pop_Pct_030122'].mean(), color='#00919C')\n",
    "\n",
    "plt.hist(cluster1['Dose1_Pop_Pct_030122'], alpha=.5, bins=20, color='#E8B44F')\n",
    "plt.axvline(cluster1['Dose1_Pop_Pct_030122'].mean(), color='#E8B44F')\n",
    "\n",
    "plt.hist(cluster2['Dose1_Pop_Pct_030122'], alpha=.5, bins=20, color='#BE5504')\n",
    "plt.axvline(cluster2['Dose1_Pop_Pct_030122'].mean(), color='#BE5504')\n",
    "\n",
    "plt.xticks(range(0, 110, 10))\n",
    "#plt.legend()\n",
    "plt.title('Histogram of Vaccination Rates in March 2022 by Cluster')\n",
    "plt.xlabel('Percent of population that received at least one vaccine dose')\n",
    "plt.ylabel('Frequency')\n",
    "plt.savefig('../graphs/cluster_0322_onevax.png', facecolor='w', transparent=False, dpi = 1000, bbox_inches='tight');"
   ]
  },
  {
   "cell_type": "code",
   "execution_count": null,
   "id": "22916805-b89c-489e-80be-798403098f79",
   "metadata": {},
   "outputs": [],
   "source": [
    "plt.figure(figsize=(8,6))\n",
    "\n",
    "plt.hist(cluster0['Dose1_Pop_Pct_030121'], alpha=.65, bins=20, label='March 2021', color='#B2DEE1')\n",
    "plt.axvline(cluster0['Dose1_Pop_Pct_030121'].mean(), color='#B2DEE1')\n",
    "\n",
    "plt.hist(cluster0['Dose1_Pop_Pct_090121_impute'], alpha=.65, bins=20, label='Sept 2021', color='#00919C')\n",
    "plt.axvline(cluster0['Dose1_Pop_Pct_090121_impute'].mean(), color='#00919C')\n",
    "\n",
    "plt.hist(cluster0['Dose1_Pop_Pct_030122'], alpha=.65, bins=20, label='March 2022', color='#003A3E')\n",
    "plt.axvline(cluster0['Dose1_Pop_Pct_030122'].mean(), color='#003A3E')\n",
    "\n",
    "plt.xticks(range(0, 110, 10))\n",
    "plt.legend()\n",
    "plt.title('Histogram of Vaccination Rates Over Time, Cluster 0')\n",
    "plt.xlabel('Percent of population that received at least one vaccine dose')\n",
    "plt.ylabel('Frequency')\n",
    "plt.savefig('../graphs/cluster0_overtime.png', facecolor='w', transparent=False, dpi = 1000, bbox_inches='tight');"
   ]
  },
  {
   "cell_type": "code",
   "execution_count": null,
   "id": "7c58be98-41c0-4428-a6ef-b687b7ea5806",
   "metadata": {},
   "outputs": [],
   "source": [
    "\n",
    "plt.figure(figsize=(8,6))\n",
    "\n",
    "plt.hist(cluster1['Dose1_Pop_Pct_030121'], alpha=.65, bins=20, label='March 2021', color='#F3D9A6')\n",
    "plt.axvline(cluster1['Dose1_Pop_Pct_030121'].mean(), color='#F3D9A6')\n",
    "\n",
    "plt.hist(cluster1['Dose1_Pop_Pct_090121_impute'], alpha=.65, bins=20, label='Sept 2021', color='#E8B44F')\n",
    "plt.axvline(cluster1['Dose1_Pop_Pct_090121_impute'].mean(), color='#E8B44F')\n",
    "\n",
    "plt.hist(cluster1['Dose1_Pop_Pct_030122'], alpha=.65, bins=20, label='March 2022', color='#8B6C2F')\n",
    "plt.axvline(cluster1['Dose1_Pop_Pct_030122'].mean(), color='#8B6C2F')\n",
    "\n",
    "plt.xticks(range(0, 110, 10))\n",
    "plt.legend()\n",
    "plt.title('Histogram of Vaccination Rates Over Time, Cluster 1')\n",
    "plt.xlabel('Percent of population that received at least one vaccine dose')\n",
    "plt.ylabel('Frequency')\n",
    "plt.savefig('../graphs/cluster1_overtime.png', facecolor='w', transparent=False, dpi = 1000, bbox_inches='tight');"
   ]
  },
  {
   "cell_type": "code",
   "execution_count": null,
   "id": "7cacfca6-1e20-4aef-a948-d9e22f6e14c7",
   "metadata": {},
   "outputs": [],
   "source": [
    "plt.figure(figsize=(8,6))\n",
    "\n",
    "plt.hist(cluster2['Dose1_Pop_Pct_030121'], alpha=.65, bins=20, label='March 2021', color='#D89968')\n",
    "plt.axvline(cluster2['Dose1_Pop_Pct_030121'].mean(), color='#D89968')\n",
    "\n",
    "plt.hist(cluster2['Dose1_Pop_Pct_090121_impute'], alpha=.65, bins=20, label='Sept 2021', color='#BE5504')\n",
    "plt.axvline(cluster2['Dose1_Pop_Pct_090121_impute'].mean(), color='#BE5504')\n",
    "\n",
    "plt.hist(cluster2['Dose1_Pop_Pct_030122'], alpha=.65, bins=20, label='March 2022', color='#723302')\n",
    "plt.axvline(cluster2['Dose1_Pop_Pct_030122'].mean(), color='#723302')\n",
    "\n",
    "plt.xticks(range(0, 110, 10))\n",
    "plt.legend()\n",
    "plt.title('Histogram of Vaccination Rates Over Time, Cluster 2')\n",
    "plt.xlabel('Percent of population that received at least one vaccine dose')\n",
    "plt.ylabel('Frequency')\n",
    "plt.savefig('../graphs/cluster2_overtime.png', facecolor='w', transparent=False, dpi = 1000, bbox_inches='tight');"
   ]
  },
  {
   "cell_type": "code",
   "execution_count": null,
   "id": "83005eec-26a1-4c41-8b54-92fa4513cc23",
   "metadata": {},
   "outputs": [],
   "source": []
  }
 ],
 "metadata": {
  "kernelspec": {
   "display_name": "Python 3 (ipykernel)",
   "language": "python",
   "name": "python3"
  },
  "language_info": {
   "codemirror_mode": {
    "name": "ipython",
    "version": 3
   },
   "file_extension": ".py",
   "mimetype": "text/x-python",
   "name": "python",
   "nbconvert_exporter": "python",
   "pygments_lexer": "ipython3",
   "version": "3.9.7"
  }
 },
 "nbformat": 4,
 "nbformat_minor": 5
}
