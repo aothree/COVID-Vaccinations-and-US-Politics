{
 "cells": [
  {
   "cell_type": "markdown",
   "id": "e2ac6b15-a5d9-4500-b817-cd44dd02e9de",
   "metadata": {},
   "source": [
    "**Merge separate datasets**"
   ]
  },
  {
   "cell_type": "code",
   "execution_count": 1,
   "id": "d7c8b838",
   "metadata": {},
   "outputs": [],
   "source": [
    "import pandas as pd\n",
    "import numpy as np"
   ]
  },
  {
   "cell_type": "code",
   "execution_count": 45,
   "id": "f10235f7",
   "metadata": {},
   "outputs": [],
   "source": [
    "checkpoint = pd.read_csv('../clean_data/checkpoints_rev.csv')\n",
    "svi = pd.read_csv('../clean_data/svi_clean.csv')\n",
    "vaccine = pd.read_csv('../clean_data/vaccine_hesitancy.csv')\n",
    "election = pd.read_csv('../clean_data/final_clean_vote_data.csv')\n",
    "census = pd.read_csv('../clean_data/census_data.csv')"
   ]
  },
  {
   "cell_type": "code",
   "execution_count": 46,
   "id": "40015f8a-4794-4393-b5cb-11d399f4c9ec",
   "metadata": {},
   "outputs": [
    {
     "data": {
      "text/html": [
       "<div>\n",
       "<style scoped>\n",
       "    .dataframe tbody tr th:only-of-type {\n",
       "        vertical-align: middle;\n",
       "    }\n",
       "\n",
       "    .dataframe tbody tr th {\n",
       "        vertical-align: top;\n",
       "    }\n",
       "\n",
       "    .dataframe thead th {\n",
       "        text-align: right;\n",
       "    }\n",
       "</style>\n",
       "<table border=\"1\" class=\"dataframe\">\n",
       "  <thead>\n",
       "    <tr style=\"text-align: right;\">\n",
       "      <th></th>\n",
       "      <th>Recip_County</th>\n",
       "      <th>FIPS</th>\n",
       "      <th>Dose1_Recip_030121</th>\n",
       "      <th>Dose1_Pop_Pct_030121</th>\n",
       "      <th>Series_Complete_Pop_Pct_030121</th>\n",
       "      <th>Booster_Doses_Vax_Pct_030121</th>\n",
       "      <th>Dose1_Recip_090121</th>\n",
       "      <th>Dose1_Pop_Pct_090121</th>\n",
       "      <th>Series_Complete_Pop_Pct_090121</th>\n",
       "      <th>Booster_Doses_Vax_Pct_090121</th>\n",
       "      <th>Dose1_Recip_030122</th>\n",
       "      <th>Dose1_Pop_Pct_030122</th>\n",
       "      <th>Series_Complete_Pop_Pct_030122</th>\n",
       "      <th>Booster_Doses_Vax_Pct_030122</th>\n",
       "    </tr>\n",
       "  </thead>\n",
       "  <tbody>\n",
       "    <tr>\n",
       "      <th>0</th>\n",
       "      <td>mason_mi</td>\n",
       "      <td>26105</td>\n",
       "      <td>5795.0</td>\n",
       "      <td>19.9</td>\n",
       "      <td>12.1</td>\n",
       "      <td>0</td>\n",
       "      <td>0.0</td>\n",
       "      <td>0.0</td>\n",
       "      <td>51.7</td>\n",
       "      <td>0</td>\n",
       "      <td>17777.0</td>\n",
       "      <td>61.0</td>\n",
       "      <td>60.1</td>\n",
       "      <td>58.2</td>\n",
       "    </tr>\n",
       "    <tr>\n",
       "      <th>1</th>\n",
       "      <td>colusa_ca</td>\n",
       "      <td>06011</td>\n",
       "      <td>2666.0</td>\n",
       "      <td>12.4</td>\n",
       "      <td>3.8</td>\n",
       "      <td>0</td>\n",
       "      <td>11806.0</td>\n",
       "      <td>54.8</td>\n",
       "      <td>45.8</td>\n",
       "      <td>0</td>\n",
       "      <td>14465.0</td>\n",
       "      <td>67.1</td>\n",
       "      <td>59.7</td>\n",
       "      <td>33.6</td>\n",
       "    </tr>\n",
       "  </tbody>\n",
       "</table>\n",
       "</div>"
      ],
      "text/plain": [
       "  Recip_County   FIPS  Dose1_Recip_030121  Dose1_Pop_Pct_030121  \\\n",
       "0     mason_mi  26105              5795.0                  19.9   \n",
       "1    colusa_ca  06011              2666.0                  12.4   \n",
       "\n",
       "   Series_Complete_Pop_Pct_030121  Booster_Doses_Vax_Pct_030121  \\\n",
       "0                            12.1                             0   \n",
       "1                             3.8                             0   \n",
       "\n",
       "   Dose1_Recip_090121  Dose1_Pop_Pct_090121  Series_Complete_Pop_Pct_090121  \\\n",
       "0                 0.0                   0.0                            51.7   \n",
       "1             11806.0                  54.8                            45.8   \n",
       "\n",
       "   Booster_Doses_Vax_Pct_090121  Dose1_Recip_030122  Dose1_Pop_Pct_030122  \\\n",
       "0                             0             17777.0                  61.0   \n",
       "1                             0             14465.0                  67.1   \n",
       "\n",
       "   Series_Complete_Pop_Pct_030122  Booster_Doses_Vax_Pct_030122  \n",
       "0                            60.1                          58.2  \n",
       "1                            59.7                          33.6  "
      ]
     },
     "execution_count": 46,
     "metadata": {},
     "output_type": "execute_result"
    }
   ],
   "source": [
    "checkpoint.head(2)"
   ]
  },
  {
   "cell_type": "code",
   "execution_count": 47,
   "id": "97187f8a-1c77-47c0-b78a-812da8aafa0c",
   "metadata": {},
   "outputs": [
    {
     "data": {
      "text/html": [
       "<div>\n",
       "<style scoped>\n",
       "    .dataframe tbody tr th:only-of-type {\n",
       "        vertical-align: middle;\n",
       "    }\n",
       "\n",
       "    .dataframe tbody tr th {\n",
       "        vertical-align: top;\n",
       "    }\n",
       "\n",
       "    .dataframe thead th {\n",
       "        text-align: right;\n",
       "    }\n",
       "</style>\n",
       "<table border=\"1\" class=\"dataframe\">\n",
       "  <thead>\n",
       "    <tr style=\"text-align: right;\">\n",
       "      <th></th>\n",
       "      <th>index</th>\n",
       "      <th>socio_std</th>\n",
       "      <th>hh_std</th>\n",
       "      <th>minority_std</th>\n",
       "      <th>housing_std</th>\n",
       "      <th>overall_std</th>\n",
       "      <th>null_pct</th>\n",
       "      <th>uninsured_pct</th>\n",
       "      <th>socio_wgt</th>\n",
       "      <th>hh_wgt</th>\n",
       "      <th>minority_wgt</th>\n",
       "      <th>housing_wgt</th>\n",
       "      <th>overall_wgt</th>\n",
       "      <th>count</th>\n",
       "    </tr>\n",
       "  </thead>\n",
       "  <tbody>\n",
       "    <tr>\n",
       "      <th>0</th>\n",
       "      <td>abbeville_sc</td>\n",
       "      <td>0.089387</td>\n",
       "      <td>0.195687</td>\n",
       "      <td>0.160383</td>\n",
       "      <td>0.134782</td>\n",
       "      <td>0.130340</td>\n",
       "      <td>0.0</td>\n",
       "      <td>0.115140</td>\n",
       "      <td>0.799646</td>\n",
       "      <td>0.793354</td>\n",
       "      <td>0.352214</td>\n",
       "      <td>0.674209</td>\n",
       "      <td>0.752302</td>\n",
       "      <td>6</td>\n",
       "    </tr>\n",
       "    <tr>\n",
       "      <th>1</th>\n",
       "      <td>acadia parish_la</td>\n",
       "      <td>0.159638</td>\n",
       "      <td>0.262590</td>\n",
       "      <td>0.232193</td>\n",
       "      <td>0.216910</td>\n",
       "      <td>0.223026</td>\n",
       "      <td>0.0</td>\n",
       "      <td>0.113333</td>\n",
       "      <td>0.784556</td>\n",
       "      <td>0.737875</td>\n",
       "      <td>0.323409</td>\n",
       "      <td>0.709167</td>\n",
       "      <td>0.731175</td>\n",
       "      <td>12</td>\n",
       "    </tr>\n",
       "  </tbody>\n",
       "</table>\n",
       "</div>"
      ],
      "text/plain": [
       "              index  socio_std    hh_std  minority_std  housing_std  \\\n",
       "0      abbeville_sc   0.089387  0.195687      0.160383     0.134782   \n",
       "1  acadia parish_la   0.159638  0.262590      0.232193     0.216910   \n",
       "\n",
       "   overall_std  null_pct  uninsured_pct  socio_wgt    hh_wgt  minority_wgt  \\\n",
       "0     0.130340       0.0       0.115140   0.799646  0.793354      0.352214   \n",
       "1     0.223026       0.0       0.113333   0.784556  0.737875      0.323409   \n",
       "\n",
       "   housing_wgt  overall_wgt  count  \n",
       "0     0.674209     0.752302      6  \n",
       "1     0.709167     0.731175     12  "
      ]
     },
     "execution_count": 47,
     "metadata": {},
     "output_type": "execute_result"
    }
   ],
   "source": [
    "svi.head(2)"
   ]
  },
  {
   "cell_type": "code",
   "execution_count": 48,
   "id": "2cabdd1d-2b6b-4aeb-b3fc-6fd71368fcb1",
   "metadata": {},
   "outputs": [
    {
     "data": {
      "text/html": [
       "<div>\n",
       "<style scoped>\n",
       "    .dataframe tbody tr th:only-of-type {\n",
       "        vertical-align: middle;\n",
       "    }\n",
       "\n",
       "    .dataframe tbody tr th {\n",
       "        vertical-align: top;\n",
       "    }\n",
       "\n",
       "    .dataframe thead th {\n",
       "        text-align: right;\n",
       "    }\n",
       "</style>\n",
       "<table border=\"1\" class=\"dataframe\">\n",
       "  <thead>\n",
       "    <tr style=\"text-align: right;\">\n",
       "      <th></th>\n",
       "      <th>county_state</th>\n",
       "      <th>n_zipcodes</th>\n",
       "      <th>pct_hesitant_02-24-22</th>\n",
       "      <th>pct_somewhat_hesitant_02-24-22</th>\n",
       "      <th>pct_highly_hesitant_02-24-22</th>\n",
       "    </tr>\n",
       "  </thead>\n",
       "  <tbody>\n",
       "    <tr>\n",
       "      <th>0</th>\n",
       "      <td>abbeville_sc</td>\n",
       "      <td>13.0</td>\n",
       "      <td>0.293</td>\n",
       "      <td>0.108</td>\n",
       "      <td>0.185</td>\n",
       "    </tr>\n",
       "    <tr>\n",
       "      <th>1</th>\n",
       "      <td>acadia parish_la</td>\n",
       "      <td>15.0</td>\n",
       "      <td>0.290</td>\n",
       "      <td>0.083</td>\n",
       "      <td>0.207</td>\n",
       "    </tr>\n",
       "  </tbody>\n",
       "</table>\n",
       "</div>"
      ],
      "text/plain": [
       "       county_state  n_zipcodes  pct_hesitant_02-24-22  \\\n",
       "0      abbeville_sc        13.0                  0.293   \n",
       "1  acadia parish_la        15.0                  0.290   \n",
       "\n",
       "   pct_somewhat_hesitant_02-24-22  pct_highly_hesitant_02-24-22  \n",
       "0                           0.108                         0.185  \n",
       "1                           0.083                         0.207  "
      ]
     },
     "execution_count": 48,
     "metadata": {},
     "output_type": "execute_result"
    }
   ],
   "source": [
    "vaccine.head(2)"
   ]
  },
  {
   "cell_type": "code",
   "execution_count": 49,
   "id": "20b8c8a3-4900-4b51-92d2-c6b7b2dd717a",
   "metadata": {},
   "outputs": [
    {
     "data": {
      "text/html": [
       "<div>\n",
       "<style scoped>\n",
       "    .dataframe tbody tr th:only-of-type {\n",
       "        vertical-align: middle;\n",
       "    }\n",
       "\n",
       "    .dataframe tbody tr th {\n",
       "        vertical-align: top;\n",
       "    }\n",
       "\n",
       "    .dataframe thead th {\n",
       "        text-align: right;\n",
       "    }\n",
       "</style>\n",
       "<table border=\"1\" class=\"dataframe\">\n",
       "  <thead>\n",
       "    <tr style=\"text-align: right;\">\n",
       "      <th></th>\n",
       "      <th>county_state</th>\n",
       "      <th>state</th>\n",
       "      <th>candidate_won</th>\n",
       "      <th>party</th>\n",
       "      <th>winner_votes</th>\n",
       "      <th>total_votes</th>\n",
       "      <th>pct_trump</th>\n",
       "      <th>pct_biden</th>\n",
       "    </tr>\n",
       "  </thead>\n",
       "  <tbody>\n",
       "    <tr>\n",
       "      <th>0</th>\n",
       "      <td>kent_de</td>\n",
       "      <td>DE</td>\n",
       "      <td>Joe Biden</td>\n",
       "      <td>DEM</td>\n",
       "      <td>44552</td>\n",
       "      <td>87025</td>\n",
       "      <td>0.488</td>\n",
       "      <td>0.512</td>\n",
       "    </tr>\n",
       "    <tr>\n",
       "      <th>1</th>\n",
       "      <td>new castle_de</td>\n",
       "      <td>DE</td>\n",
       "      <td>Joe Biden</td>\n",
       "      <td>DEM</td>\n",
       "      <td>195034</td>\n",
       "      <td>287633</td>\n",
       "      <td>0.322</td>\n",
       "      <td>0.678</td>\n",
       "    </tr>\n",
       "  </tbody>\n",
       "</table>\n",
       "</div>"
      ],
      "text/plain": [
       "    county_state state candidate_won party  winner_votes  total_votes  \\\n",
       "0        kent_de    DE     Joe Biden   DEM         44552        87025   \n",
       "1  new castle_de    DE     Joe Biden   DEM        195034       287633   \n",
       "\n",
       "   pct_trump  pct_biden  \n",
       "0      0.488      0.512  \n",
       "1      0.322      0.678  "
      ]
     },
     "execution_count": 49,
     "metadata": {},
     "output_type": "execute_result"
    }
   ],
   "source": [
    "election.head(2)"
   ]
  },
  {
   "cell_type": "code",
   "execution_count": 50,
   "id": "a4e441e4-f256-4928-86cd-0413a4dbb6dc",
   "metadata": {},
   "outputs": [
    {
     "data": {
      "text/html": [
       "<div>\n",
       "<style scoped>\n",
       "    .dataframe tbody tr th:only-of-type {\n",
       "        vertical-align: middle;\n",
       "    }\n",
       "\n",
       "    .dataframe tbody tr th {\n",
       "        vertical-align: top;\n",
       "    }\n",
       "\n",
       "    .dataframe thead th {\n",
       "        text-align: right;\n",
       "    }\n",
       "</style>\n",
       "<table border=\"1\" class=\"dataframe\">\n",
       "  <thead>\n",
       "    <tr style=\"text-align: right;\">\n",
       "      <th></th>\n",
       "      <th>County_State</th>\n",
       "      <th>County</th>\n",
       "      <th>State</th>\n",
       "      <th>SVI_CTGY</th>\n",
       "      <th>Metro_status</th>\n",
       "      <th>Census2019</th>\n",
       "      <th>Census2019_65PlusPop</th>\n",
       "      <th>Census2019_18to64Pop</th>\n",
       "    </tr>\n",
       "  </thead>\n",
       "  <tbody>\n",
       "    <tr>\n",
       "      <th>0</th>\n",
       "      <td>mason_mi</td>\n",
       "      <td>Mason County</td>\n",
       "      <td>MI</td>\n",
       "      <td>2.0</td>\n",
       "      <td>0.0</td>\n",
       "      <td>29144.0</td>\n",
       "      <td>7069.0</td>\n",
       "      <td>16171.0</td>\n",
       "    </tr>\n",
       "    <tr>\n",
       "      <th>1</th>\n",
       "      <td>colusa_ca</td>\n",
       "      <td>Colusa County</td>\n",
       "      <td>CA</td>\n",
       "      <td>3.0</td>\n",
       "      <td>0.0</td>\n",
       "      <td>21547.0</td>\n",
       "      <td>3214.0</td>\n",
       "      <td>12492.0</td>\n",
       "    </tr>\n",
       "  </tbody>\n",
       "</table>\n",
       "</div>"
      ],
      "text/plain": [
       "  County_State         County State  SVI_CTGY  Metro_status  Census2019  \\\n",
       "0     mason_mi   Mason County    MI       2.0           0.0     29144.0   \n",
       "1    colusa_ca  Colusa County    CA       3.0           0.0     21547.0   \n",
       "\n",
       "   Census2019_65PlusPop  Census2019_18to64Pop  \n",
       "0                7069.0               16171.0  \n",
       "1                3214.0               12492.0  "
      ]
     },
     "execution_count": 50,
     "metadata": {},
     "output_type": "execute_result"
    }
   ],
   "source": [
    "census.head(2)"
   ]
  },
  {
   "cell_type": "code",
   "execution_count": 51,
   "id": "1250e9c4",
   "metadata": {},
   "outputs": [],
   "source": [
    "#census.isnull().sum()\n",
    "#went through columns with nans; the mismatched indices are not due to nans\n",
    "#census[census['Census2019_18to64Pop'].isnull()]"
   ]
  },
  {
   "cell_type": "code",
   "execution_count": 52,
   "id": "5151da01-ff00-4659-b684-864967dc58a8",
   "metadata": {},
   "outputs": [],
   "source": [
    "# match format of \"County_State\" columns\n",
    "\n",
    "vaccine.rename(columns={'county_state':'County_State'}, inplace=True)\n",
    "election.rename(columns={'county_state':'County_State'}, inplace=True)\n",
    "checkpoint.rename(columns={'Recip_County':'County_State'}, inplace=True)\n",
    "svi.rename(columns={'index':'County_State'}, inplace=True)"
   ]
  },
  {
   "cell_type": "code",
   "execution_count": 53,
   "id": "5e9e3396",
   "metadata": {},
   "outputs": [],
   "source": [
    "#create list of each df's county_state's\n",
    "checkpoint_county_list = list(checkpoint['County_State'])\n",
    "svi_county_list = list(svi['County_State'])\n",
    "vaccine_county_list = list(vaccine['County_State'])\n",
    "election_county_list = list(election['County_State'])\n",
    "census_county_list = list(census['County_State'])\n",
    "\n",
    "lists = [checkpoint_county_list, svi_county_list, vaccine_county_list,\n",
    "        election_county_list, census_county_list]"
   ]
  },
  {
   "cell_type": "code",
   "execution_count": 54,
   "id": "f5e60a7b",
   "metadata": {},
   "outputs": [
    {
     "name": "stdout",
     "output_type": "stream",
     "text": [
      "checkpoint length: 3191\n",
      "svi length: 3142\n",
      "vaccine length: 3142\n",
      "election length: 3145\n",
      "census length: 3191\n"
     ]
    }
   ],
   "source": [
    "#lengths of lists\n",
    "#\n",
    "def length(lst, name):\n",
    "    print(f'{name} length: {len(lst)}')\n",
    "\n",
    "length(checkpoint_county_list, 'checkpoint')\n",
    "length(svi_county_list, 'svi')\n",
    "length(vaccine_county_list, 'vaccine')\n",
    "length(election_county_list, 'election')\n",
    "length(census_county_list, 'census')"
   ]
  },
  {
   "cell_type": "code",
   "execution_count": 55,
   "id": "6c4fc1db",
   "metadata": {},
   "outputs": [],
   "source": [
    "#print shapes\n",
    "dfs = [checkpoint,svi,vaccine,election,census]\n",
    "\n",
    "def shapes(df, dfname):\n",
    "    print(f'{dfname} shape: {df.shape}')\n",
    "    \n",
    "def total_shape(df_list):\n",
    "    count = 0\n",
    "    for i in df_list:\n",
    "        count += i.shape[1]\n",
    "    print(f'total columns={count}')"
   ]
  },
  {
   "cell_type": "code",
   "execution_count": 56,
   "id": "5281cf9f",
   "metadata": {},
   "outputs": [
    {
     "name": "stdout",
     "output_type": "stream",
     "text": [
      "checkpoint shape: (3191, 14)\n",
      "svi shape: (3142, 14)\n",
      "vaccine shape: (3142, 5)\n",
      "election shape: (3145, 8)\n",
      "census shape: (3191, 8)\n",
      "total columns=49\n"
     ]
    }
   ],
   "source": [
    "shapes(checkpoint,'checkpoint')\n",
    "shapes(svi, 'svi')\n",
    "shapes(vaccine, 'vaccine')\n",
    "shapes(election, 'election')\n",
    "shapes(census, 'census')\n",
    "total_shape(dfs)"
   ]
  },
  {
   "cell_type": "code",
   "execution_count": 57,
   "id": "faee74e8",
   "metadata": {},
   "outputs": [],
   "source": [
    "#set indices to 'County_State'\n",
    "#checked and they're all indexed correctly\n",
    "for i in dfs:\n",
    "    i.set_index('County_State', inplace=True)"
   ]
  },
  {
   "cell_type": "code",
   "execution_count": 58,
   "id": "f90cd29c-d23a-46db-be0b-135b0f5c01b0",
   "metadata": {},
   "outputs": [
    {
     "name": "stdout",
     "output_type": "stream",
     "text": [
      "[]\n",
      "[]\n"
     ]
    }
   ],
   "source": [
    "# Check indices of checkpoint & census dfs are identical (3191 rows)\n",
    "\n",
    "checkpt_has = [x for x in checkpoint.index if x not in census.index]\n",
    "census_has = [x for x in census.index if x not in checkpoint.index]\n",
    "print(checkpt_has)\n",
    "print(census_has)"
   ]
  },
  {
   "cell_type": "code",
   "execution_count": 59,
   "id": "74aed3c9",
   "metadata": {},
   "outputs": [
    {
     "name": "stdout",
     "output_type": "stream",
     "text": [
      "(3191, 20)\n"
     ]
    }
   ],
   "source": [
    "#merge: checkpoint, census (3191 rows, incl \"unknown\")\n",
    "\n",
    "df_checkpt_census = pd.merge(checkpoint,census, left_index=True, right_index=True)\n",
    "print(df_checkpt_census.shape)\n",
    "# df_checkpt_census.head()"
   ]
  },
  {
   "cell_type": "code",
   "execution_count": 60,
   "id": "950c4828-75e0-48b9-bb87-14375c551752",
   "metadata": {},
   "outputs": [],
   "source": [
    "df_checkpt_census.loc[['dona ana_nm','la salle parish_la']]\n",
    "df_checkpt_census.rename({'la salle parish_la': 'lasalle parish_la'}, inplace=True)"
   ]
  },
  {
   "cell_type": "code",
   "execution_count": 61,
   "id": "9fa2ceeb",
   "metadata": {},
   "outputs": [
    {
     "name": "stdout",
     "output_type": "stream",
     "text": [
      "['doña ana_nm', 'kalawao_hi', 'la salle parish_la', 'valdez-cordova_ak']\n",
      "['chugach census area_ak', 'copper river census area_ak', 'do�a ana_nm', 'lasalle parish_la']\n"
     ]
    }
   ],
   "source": [
    "# Check indices of vaccine & svi dfs are identical (3142 rows)\n",
    "\n",
    "svi_has = [x for x in svi.index if x not in vaccine.index]\n",
    "vax_has = [x for x in vaccine.index if x not in svi.index]\n",
    "print(svi_has)\n",
    "print(vax_has)"
   ]
  },
  {
   "cell_type": "code",
   "execution_count": 62,
   "id": "ab70fb9f-15be-4d23-8626-8a74d2a1cb72",
   "metadata": {},
   "outputs": [],
   "source": [
    "svi.rename({'doña ana_nm': 'dona ana_nm', 'la salle parish_la': 'lasalle parish_la'}, inplace=True)\n",
    "vaccine.rename({'do�a ana_nm': 'dona ana_nm'}, inplace=True)\n",
    "\n",
    "# Remaining mismatches: ['kalawao_hi', 'valdez-cordova_ak'] in svi\n",
    "                    # ['chugach census area_ak', 'copper river census area_ak'] in vaccine\n",
    "# df_checkpt_census.loc[['kalawao_hi', 'valdez-cordova_ak', 'chugach census area_ak', 'copper river census area_ak']]   \n",
    "# These are not in election or df_checkpt_census"
   ]
  },
  {
   "cell_type": "code",
   "execution_count": 63,
   "id": "5cf93862-3e8a-4d76-a143-e257285565f3",
   "metadata": {},
   "outputs": [
    {
     "data": {
      "text/plain": [
       "(3144, 17)"
      ]
     },
     "execution_count": 63,
     "metadata": {},
     "output_type": "execute_result"
    }
   ],
   "source": [
    "# Outer join to keep mismatched indices from both dataframes\n",
    "\n",
    "df_vax_svi = pd.merge(left=vaccine, right=svi, how='outer', left_on='County_State', right_on='County_State')\n",
    "\n",
    "df_vax_svi.shape"
   ]
  },
  {
   "cell_type": "code",
   "execution_count": 64,
   "id": "98725c0d-fa23-49e6-853b-cf8084725301",
   "metadata": {},
   "outputs": [
    {
     "data": {
      "text/plain": [
       "(3195, 37)"
      ]
     },
     "execution_count": 64,
     "metadata": {},
     "output_type": "execute_result"
    }
   ],
   "source": [
    "# Outer join of vax, svi (3142 rows) and checkpt, census (3191 rows)\n",
    "\n",
    "df_vax_svi_checkpt_census = pd.merge(left=df_vax_svi, right=df_checkpt_census, how='outer', left_on='County_State', right_on='County_State')\n",
    "df_vax_svi_checkpt_census.shape"
   ]
  },
  {
   "cell_type": "code",
   "execution_count": 65,
   "id": "4a63da23-772f-4486-9e4f-d325d7587140",
   "metadata": {},
   "outputs": [
    {
     "name": "stdout",
     "output_type": "stream",
     "text": [
      "combined_has: ['dona ana_nm', 'kalawao_hi']\n",
      "election_has: ['do�a ana_nm']\n"
     ]
    }
   ],
   "source": [
    "# Check index mismatches btwn df_vax_svi_checkpt and election dfs\n",
    "\n",
    "combined_has = [x for x in df_vax_svi_checkpt_census.index if x not in election.index and x[:7] != 'unknown']\n",
    "election_has = [x for x in election.index if x not in df_vax_svi_checkpt_census.index]\n",
    "print(f'combined_has: {combined_has}')\n",
    "print(f'election_has: {election_has}')"
   ]
  },
  {
   "cell_type": "code",
   "execution_count": 66,
   "id": "7ab0ff17-1913-4d8a-af86-8379403c84d5",
   "metadata": {},
   "outputs": [],
   "source": [
    "# Correct dona ana_nm in election df\n",
    "election.rename({'do�a ana_nm': 'dona ana_nm'}, inplace=True)"
   ]
  },
  {
   "cell_type": "code",
   "execution_count": 67,
   "id": "e509e40d-128b-452c-9c2d-b130b8c4b8b9",
   "metadata": {},
   "outputs": [
    {
     "data": {
      "text/html": [
       "<div>\n",
       "<style scoped>\n",
       "    .dataframe tbody tr th:only-of-type {\n",
       "        vertical-align: middle;\n",
       "    }\n",
       "\n",
       "    .dataframe tbody tr th {\n",
       "        vertical-align: top;\n",
       "    }\n",
       "\n",
       "    .dataframe thead th {\n",
       "        text-align: right;\n",
       "    }\n",
       "</style>\n",
       "<table border=\"1\" class=\"dataframe\">\n",
       "  <thead>\n",
       "    <tr style=\"text-align: right;\">\n",
       "      <th></th>\n",
       "      <th>state</th>\n",
       "      <th>candidate_won</th>\n",
       "      <th>party</th>\n",
       "      <th>winner_votes</th>\n",
       "      <th>total_votes</th>\n",
       "      <th>pct_trump</th>\n",
       "      <th>pct_biden</th>\n",
       "      <th>county_election</th>\n",
       "    </tr>\n",
       "  </thead>\n",
       "  <tbody>\n",
       "    <tr>\n",
       "      <th>hawaii_hi</th>\n",
       "      <td>HI</td>\n",
       "      <td>Joe Biden</td>\n",
       "      <td>DEM</td>\n",
       "      <td>58731</td>\n",
       "      <td>87814</td>\n",
       "      <td>0.3310</td>\n",
       "      <td>0.6690</td>\n",
       "      <td>NaN</td>\n",
       "    </tr>\n",
       "    <tr>\n",
       "      <th>honolulu_hi</th>\n",
       "      <td>HI</td>\n",
       "      <td>Joe Biden</td>\n",
       "      <td>DEM</td>\n",
       "      <td>238869</td>\n",
       "      <td>382114</td>\n",
       "      <td>0.3750</td>\n",
       "      <td>0.6250</td>\n",
       "      <td>NaN</td>\n",
       "    </tr>\n",
       "    <tr>\n",
       "      <th>kauai_hi</th>\n",
       "      <td>HI</td>\n",
       "      <td>Joe Biden</td>\n",
       "      <td>DEM</td>\n",
       "      <td>21225</td>\n",
       "      <td>33497</td>\n",
       "      <td>0.3660</td>\n",
       "      <td>0.6340</td>\n",
       "      <td>NaN</td>\n",
       "    </tr>\n",
       "    <tr>\n",
       "      <th>maui_hi</th>\n",
       "      <td>HI</td>\n",
       "      <td>Joe Biden</td>\n",
       "      <td>DEM</td>\n",
       "      <td>47305</td>\n",
       "      <td>71044</td>\n",
       "      <td>0.3340</td>\n",
       "      <td>0.6660</td>\n",
       "      <td>NaN</td>\n",
       "    </tr>\n",
       "    <tr>\n",
       "      <th>kalawao_hi</th>\n",
       "      <td>HI</td>\n",
       "      <td>Joe Biden</td>\n",
       "      <td>DEM</td>\n",
       "      <td>23</td>\n",
       "      <td>24</td>\n",
       "      <td>0.0417</td>\n",
       "      <td>0.8583</td>\n",
       "      <td>kalawao_hi</td>\n",
       "    </tr>\n",
       "  </tbody>\n",
       "</table>\n",
       "</div>"
      ],
      "text/plain": [
       "            state candidate_won party  winner_votes  total_votes  pct_trump  \\\n",
       "hawaii_hi      HI     Joe Biden   DEM         58731        87814     0.3310   \n",
       "honolulu_hi    HI     Joe Biden   DEM        238869       382114     0.3750   \n",
       "kauai_hi       HI     Joe Biden   DEM         21225        33497     0.3660   \n",
       "maui_hi        HI     Joe Biden   DEM         47305        71044     0.3340   \n",
       "kalawao_hi     HI     Joe Biden   DEM            23           24     0.0417   \n",
       "\n",
       "             pct_biden county_election  \n",
       "hawaii_hi       0.6690             NaN  \n",
       "honolulu_hi     0.6250             NaN  \n",
       "kauai_hi        0.6340             NaN  \n",
       "maui_hi         0.6660             NaN  \n",
       "kalawao_hi      0.8583      kalawao_hi  "
      ]
     },
     "execution_count": 67,
     "metadata": {},
     "output_type": "execute_result"
    }
   ],
   "source": [
    "# Add kalawao_hi election info using wikipedia\n",
    "\n",
    "hi = pd.DataFrame([{\n",
    "     'state': 'HI',\n",
    "     'candidate_won': 'Joe Biden',\n",
    "     'party': 'DEM',\n",
    "     'winner_votes': 23,\n",
    "     'total_votes': 24,\n",
    "     'pct_trump': .0417,\n",
    "     'pct_biden': .8583, \n",
    "    'county_election': 'kalawao_hi'\n",
    "}])\n",
    "\n",
    "election_with_hi = pd.concat([election, hi])\n",
    "election_with_hi.rename({0: 'kalawao_hi'}, inplace=True)\n",
    "election_with_hi[election_with_hi['state'] == 'HI']\n"
   ]
  },
  {
   "cell_type": "code",
   "execution_count": 68,
   "id": "8e340927-cf72-46b6-a9c0-e7c65c925a83",
   "metadata": {},
   "outputs": [
    {
     "data": {
      "text/html": [
       "<div>\n",
       "<style scoped>\n",
       "    .dataframe tbody tr th:only-of-type {\n",
       "        vertical-align: middle;\n",
       "    }\n",
       "\n",
       "    .dataframe tbody tr th {\n",
       "        vertical-align: top;\n",
       "    }\n",
       "\n",
       "    .dataframe thead th {\n",
       "        text-align: right;\n",
       "    }\n",
       "</style>\n",
       "<table border=\"1\" class=\"dataframe\">\n",
       "  <thead>\n",
       "    <tr style=\"text-align: right;\">\n",
       "      <th></th>\n",
       "      <th>state</th>\n",
       "      <th>candidate_won</th>\n",
       "      <th>party</th>\n",
       "      <th>winner_votes</th>\n",
       "      <th>total_votes</th>\n",
       "      <th>pct_trump</th>\n",
       "      <th>pct_biden</th>\n",
       "      <th>county_election</th>\n",
       "    </tr>\n",
       "  </thead>\n",
       "  <tbody>\n",
       "    <tr>\n",
       "      <th>kent_de</th>\n",
       "      <td>DE</td>\n",
       "      <td>Joe Biden</td>\n",
       "      <td>DEM</td>\n",
       "      <td>44552</td>\n",
       "      <td>87025</td>\n",
       "      <td>0.488</td>\n",
       "      <td>0.512</td>\n",
       "      <td>NaN</td>\n",
       "    </tr>\n",
       "    <tr>\n",
       "      <th>new castle_de</th>\n",
       "      <td>DE</td>\n",
       "      <td>Joe Biden</td>\n",
       "      <td>DEM</td>\n",
       "      <td>195034</td>\n",
       "      <td>287633</td>\n",
       "      <td>0.322</td>\n",
       "      <td>0.678</td>\n",
       "      <td>NaN</td>\n",
       "    </tr>\n",
       "    <tr>\n",
       "      <th>district of columbia_dc</th>\n",
       "      <td>DC</td>\n",
       "      <td>Joe Biden</td>\n",
       "      <td>DEM</td>\n",
       "      <td>39041</td>\n",
       "      <td>41681</td>\n",
       "      <td>0.063</td>\n",
       "      <td>0.937</td>\n",
       "      <td>NaN</td>\n",
       "    </tr>\n",
       "    <tr>\n",
       "      <th>alachua_fl</th>\n",
       "      <td>FL</td>\n",
       "      <td>Joe Biden</td>\n",
       "      <td>DEM</td>\n",
       "      <td>89704</td>\n",
       "      <td>142604</td>\n",
       "      <td>0.371</td>\n",
       "      <td>0.629</td>\n",
       "      <td>NaN</td>\n",
       "    </tr>\n",
       "    <tr>\n",
       "      <th>broward_fl</th>\n",
       "      <td>FL</td>\n",
       "      <td>Joe Biden</td>\n",
       "      <td>DEM</td>\n",
       "      <td>618752</td>\n",
       "      <td>957672</td>\n",
       "      <td>0.354</td>\n",
       "      <td>0.646</td>\n",
       "      <td>NaN</td>\n",
       "    </tr>\n",
       "  </tbody>\n",
       "</table>\n",
       "</div>"
      ],
      "text/plain": [
       "                        state candidate_won party  winner_votes  total_votes  \\\n",
       "kent_de                    DE     Joe Biden   DEM         44552        87025   \n",
       "new castle_de              DE     Joe Biden   DEM        195034       287633   \n",
       "district of columbia_dc    DC     Joe Biden   DEM         39041        41681   \n",
       "alachua_fl                 FL     Joe Biden   DEM         89704       142604   \n",
       "broward_fl                 FL     Joe Biden   DEM        618752       957672   \n",
       "\n",
       "                         pct_trump  pct_biden county_election  \n",
       "kent_de                      0.488      0.512             NaN  \n",
       "new castle_de                0.322      0.678             NaN  \n",
       "district of columbia_dc      0.063      0.937             NaN  \n",
       "alachua_fl                   0.371      0.629             NaN  \n",
       "broward_fl                   0.354      0.646             NaN  "
      ]
     },
     "execution_count": 68,
     "metadata": {},
     "output_type": "execute_result"
    }
   ],
   "source": [
    "election_with_hi.head()"
   ]
  },
  {
   "cell_type": "code",
   "execution_count": 69,
   "id": "db7fcd79-b850-4071-b409-a90b1ba8d944",
   "metadata": {},
   "outputs": [
    {
     "name": "stdout",
     "output_type": "stream",
     "text": [
      "combined_has: ['unknown_al', 'unknown_nc', 'unknown_wy', 'unknown_va', 'unknown_ia', 'unknown_nv', 'unknown_ms', 'unknown_az', 'unknown_nm', 'unknown_vt', 'unknown_mt', 'unknown_de', 'unknown_ut', 'unknown_ks', 'unknown_id', 'unknown_ak', 'unknown_or', 'unknown_mo', 'unknown_ok', 'unknown_ri', 'unknown_wi', 'unknown_sc', 'unknown_nd', 'unknown_ma', 'unknown_wv', 'unknown_pa', 'unknown_ct', 'unknown_dc', 'unknown_md', 'unknown_sd', 'unknown_tn', 'unknown_ar', 'unknown_ca', 'unknown_nh', 'unknown_ny', 'unknown_co', 'unknown_la', 'unknown_mi', 'unknown_fl', 'unknown_ne', 'unknown_ky', 'unknown_nj', 'unknown_wa', 'unknown_ga', 'unknown_in', 'unknown_oh', 'unknown_il', 'unknown_mn', 'unknown_me']\n",
      "election_with_hi_has: []\n"
     ]
    }
   ],
   "source": [
    "# Double-check indices before merging\n",
    "combined_has = [x for x in df_vax_svi_checkpt_census.index if x not in election_with_hi.index]\n",
    "election_has = [x for x in election_with_hi.index if x not in df_vax_svi_checkpt_census.index]\n",
    "print(f'combined_has: {combined_has}')\n",
    "print(f'election_with_hi_has: {election_has}')"
   ]
  },
  {
   "cell_type": "code",
   "execution_count": 70,
   "id": "86af7d66-030d-4020-ab75-5834641dff09",
   "metadata": {},
   "outputs": [],
   "source": [
    "election_with_hi.sort_index(inplace=True)\n",
    "df_vax_svi_checkpt_census.sort_index(inplace=True)\n",
    "\n",
    "election_with_hi['county_election'] = election_with_hi.index"
   ]
  },
  {
   "cell_type": "code",
   "execution_count": 71,
   "id": "b7605c46-be24-47bf-af71-9dc19c99c382",
   "metadata": {},
   "outputs": [],
   "source": [
    "# fix spelling of dona ana in order to use 'county_election' col as merge key\n",
    "election_with_hi.loc['dona ana_nm', 'county_election'] = 'dona ana_nm'\n",
    "election_with_hi.rename(columns={'county_election': 'County_State'}, inplace=True)"
   ]
  },
  {
   "cell_type": "code",
   "execution_count": 72,
   "id": "8a37f7b4-1c6f-4b16-96cd-1cdeda7a42ce",
   "metadata": {},
   "outputs": [
    {
     "name": "stdout",
     "output_type": "stream",
     "text": [
      "(3195, 44)\n"
     ]
    },
    {
     "data": {
      "text/html": [
       "<div>\n",
       "<style scoped>\n",
       "    .dataframe tbody tr th:only-of-type {\n",
       "        vertical-align: middle;\n",
       "    }\n",
       "\n",
       "    .dataframe tbody tr th {\n",
       "        vertical-align: top;\n",
       "    }\n",
       "\n",
       "    .dataframe thead th {\n",
       "        text-align: right;\n",
       "    }\n",
       "</style>\n",
       "<table border=\"1\" class=\"dataframe\">\n",
       "  <thead>\n",
       "    <tr style=\"text-align: right;\">\n",
       "      <th></th>\n",
       "      <th>n_zipcodes</th>\n",
       "      <th>pct_hesitant_02-24-22</th>\n",
       "      <th>pct_somewhat_hesitant_02-24-22</th>\n",
       "      <th>pct_highly_hesitant_02-24-22</th>\n",
       "      <th>socio_std</th>\n",
       "      <th>hh_std</th>\n",
       "      <th>minority_std</th>\n",
       "      <th>housing_std</th>\n",
       "      <th>overall_std</th>\n",
       "      <th>null_pct</th>\n",
       "      <th>...</th>\n",
       "      <th>Census2019</th>\n",
       "      <th>Census2019_65PlusPop</th>\n",
       "      <th>Census2019_18to64Pop</th>\n",
       "      <th>state</th>\n",
       "      <th>candidate_won</th>\n",
       "      <th>party</th>\n",
       "      <th>winner_votes</th>\n",
       "      <th>total_votes</th>\n",
       "      <th>pct_trump</th>\n",
       "      <th>pct_biden</th>\n",
       "    </tr>\n",
       "    <tr>\n",
       "      <th>County_State</th>\n",
       "      <th></th>\n",
       "      <th></th>\n",
       "      <th></th>\n",
       "      <th></th>\n",
       "      <th></th>\n",
       "      <th></th>\n",
       "      <th></th>\n",
       "      <th></th>\n",
       "      <th></th>\n",
       "      <th></th>\n",
       "      <th></th>\n",
       "      <th></th>\n",
       "      <th></th>\n",
       "      <th></th>\n",
       "      <th></th>\n",
       "      <th></th>\n",
       "      <th></th>\n",
       "      <th></th>\n",
       "      <th></th>\n",
       "      <th></th>\n",
       "      <th></th>\n",
       "    </tr>\n",
       "  </thead>\n",
       "  <tbody>\n",
       "    <tr>\n",
       "      <th>abbeville_sc</th>\n",
       "      <td>13.0</td>\n",
       "      <td>0.293</td>\n",
       "      <td>0.108</td>\n",
       "      <td>0.185</td>\n",
       "      <td>0.089387</td>\n",
       "      <td>0.195687</td>\n",
       "      <td>0.160383</td>\n",
       "      <td>0.134782</td>\n",
       "      <td>0.130340</td>\n",
       "      <td>0.000000</td>\n",
       "      <td>...</td>\n",
       "      <td>24527.0</td>\n",
       "      <td>5483.0</td>\n",
       "      <td>14184.0</td>\n",
       "      <td>SC</td>\n",
       "      <td>Donald Trump</td>\n",
       "      <td>REP</td>\n",
       "      <td>8215.0</td>\n",
       "      <td>12433.0</td>\n",
       "      <td>0.661</td>\n",
       "      <td>0.339</td>\n",
       "    </tr>\n",
       "    <tr>\n",
       "      <th>acadia parish_la</th>\n",
       "      <td>15.0</td>\n",
       "      <td>0.290</td>\n",
       "      <td>0.083</td>\n",
       "      <td>0.207</td>\n",
       "      <td>0.159638</td>\n",
       "      <td>0.262590</td>\n",
       "      <td>0.232193</td>\n",
       "      <td>0.216910</td>\n",
       "      <td>0.223026</td>\n",
       "      <td>0.000000</td>\n",
       "      <td>...</td>\n",
       "      <td>62045.0</td>\n",
       "      <td>9796.0</td>\n",
       "      <td>36244.0</td>\n",
       "      <td>LA</td>\n",
       "      <td>Donald Trump</td>\n",
       "      <td>REP</td>\n",
       "      <td>22596.0</td>\n",
       "      <td>28425.0</td>\n",
       "      <td>0.795</td>\n",
       "      <td>0.205</td>\n",
       "    </tr>\n",
       "    <tr>\n",
       "      <th>accomack_va</th>\n",
       "      <td>33.0</td>\n",
       "      <td>0.214</td>\n",
       "      <td>0.087</td>\n",
       "      <td>0.126</td>\n",
       "      <td>0.118796</td>\n",
       "      <td>0.108441</td>\n",
       "      <td>0.167966</td>\n",
       "      <td>0.172741</td>\n",
       "      <td>0.131746</td>\n",
       "      <td>0.272727</td>\n",
       "      <td>...</td>\n",
       "      <td>32316.0</td>\n",
       "      <td>7934.0</td>\n",
       "      <td>17692.0</td>\n",
       "      <td>VA</td>\n",
       "      <td>Donald Trump</td>\n",
       "      <td>REP</td>\n",
       "      <td>9172.0</td>\n",
       "      <td>16962.0</td>\n",
       "      <td>0.541</td>\n",
       "      <td>0.459</td>\n",
       "    </tr>\n",
       "    <tr>\n",
       "      <th>ada_id</th>\n",
       "      <td>17.0</td>\n",
       "      <td>0.165</td>\n",
       "      <td>0.037</td>\n",
       "      <td>0.128</td>\n",
       "      <td>0.201416</td>\n",
       "      <td>0.222791</td>\n",
       "      <td>0.164793</td>\n",
       "      <td>0.303244</td>\n",
       "      <td>0.227123</td>\n",
       "      <td>0.000000</td>\n",
       "      <td>...</td>\n",
       "      <td>481587.0</td>\n",
       "      <td>71958.0</td>\n",
       "      <td>297899.0</td>\n",
       "      <td>ID</td>\n",
       "      <td>Donald Trump</td>\n",
       "      <td>REP</td>\n",
       "      <td>130699.0</td>\n",
       "      <td>259389.0</td>\n",
       "      <td>0.504</td>\n",
       "      <td>0.496</td>\n",
       "    </tr>\n",
       "    <tr>\n",
       "      <th>adair_ia</th>\n",
       "      <td>13.0</td>\n",
       "      <td>0.290</td>\n",
       "      <td>0.059</td>\n",
       "      <td>0.231</td>\n",
       "      <td>0.032519</td>\n",
       "      <td>0.205443</td>\n",
       "      <td>0.055959</td>\n",
       "      <td>0.228846</td>\n",
       "      <td>0.139366</td>\n",
       "      <td>0.000000</td>\n",
       "      <td>...</td>\n",
       "      <td>7152.0</td>\n",
       "      <td>1648.0</td>\n",
       "      <td>3945.0</td>\n",
       "      <td>IA</td>\n",
       "      <td>Donald Trump</td>\n",
       "      <td>REP</td>\n",
       "      <td>2917.0</td>\n",
       "      <td>4177.0</td>\n",
       "      <td>0.698</td>\n",
       "      <td>0.302</td>\n",
       "    </tr>\n",
       "  </tbody>\n",
       "</table>\n",
       "<p>5 rows × 44 columns</p>\n",
       "</div>"
      ],
      "text/plain": [
       "                  n_zipcodes  pct_hesitant_02-24-22  \\\n",
       "County_State                                          \n",
       "abbeville_sc            13.0                  0.293   \n",
       "acadia parish_la        15.0                  0.290   \n",
       "accomack_va             33.0                  0.214   \n",
       "ada_id                  17.0                  0.165   \n",
       "adair_ia                13.0                  0.290   \n",
       "\n",
       "                  pct_somewhat_hesitant_02-24-22  \\\n",
       "County_State                                       \n",
       "abbeville_sc                               0.108   \n",
       "acadia parish_la                           0.083   \n",
       "accomack_va                                0.087   \n",
       "ada_id                                     0.037   \n",
       "adair_ia                                   0.059   \n",
       "\n",
       "                  pct_highly_hesitant_02-24-22  socio_std    hh_std  \\\n",
       "County_State                                                          \n",
       "abbeville_sc                             0.185   0.089387  0.195687   \n",
       "acadia parish_la                         0.207   0.159638  0.262590   \n",
       "accomack_va                              0.126   0.118796  0.108441   \n",
       "ada_id                                   0.128   0.201416  0.222791   \n",
       "adair_ia                                 0.231   0.032519  0.205443   \n",
       "\n",
       "                  minority_std  housing_std  overall_std  null_pct  ...  \\\n",
       "County_State                                                        ...   \n",
       "abbeville_sc          0.160383     0.134782     0.130340  0.000000  ...   \n",
       "acadia parish_la      0.232193     0.216910     0.223026  0.000000  ...   \n",
       "accomack_va           0.167966     0.172741     0.131746  0.272727  ...   \n",
       "ada_id                0.164793     0.303244     0.227123  0.000000  ...   \n",
       "adair_ia              0.055959     0.228846     0.139366  0.000000  ...   \n",
       "\n",
       "                  Census2019  Census2019_65PlusPop  Census2019_18to64Pop  \\\n",
       "County_State                                                               \n",
       "abbeville_sc         24527.0                5483.0               14184.0   \n",
       "acadia parish_la     62045.0                9796.0               36244.0   \n",
       "accomack_va          32316.0                7934.0               17692.0   \n",
       "ada_id              481587.0               71958.0              297899.0   \n",
       "adair_ia              7152.0                1648.0                3945.0   \n",
       "\n",
       "                  state  candidate_won  party  winner_votes total_votes  \\\n",
       "County_State                                                              \n",
       "abbeville_sc         SC   Donald Trump    REP        8215.0     12433.0   \n",
       "acadia parish_la     LA   Donald Trump    REP       22596.0     28425.0   \n",
       "accomack_va          VA   Donald Trump    REP        9172.0     16962.0   \n",
       "ada_id               ID   Donald Trump    REP      130699.0    259389.0   \n",
       "adair_ia             IA   Donald Trump    REP        2917.0      4177.0   \n",
       "\n",
       "                  pct_trump  pct_biden  \n",
       "County_State                            \n",
       "abbeville_sc          0.661      0.339  \n",
       "acadia parish_la      0.795      0.205  \n",
       "accomack_va           0.541      0.459  \n",
       "ada_id                0.504      0.496  \n",
       "adair_ia              0.698      0.302  \n",
       "\n",
       "[5 rows x 44 columns]"
      ]
     },
     "execution_count": 72,
     "metadata": {},
     "output_type": "execute_result"
    }
   ],
   "source": [
    "full_df = pd.merge(left=df_vax_svi_checkpt_census, right=election_with_hi, how='outer', left_on='County_State', right_on='County_State')\n",
    "full_df.set_index('County_State', inplace=True)\n",
    "print(full_df.shape)\n",
    "full_df.head()"
   ]
  },
  {
   "cell_type": "code",
   "execution_count": 73,
   "id": "426475d1-6ddc-4f90-ab63-4b18de2309e2",
   "metadata": {},
   "outputs": [],
   "source": [
    "# Create interaction term btwn hesitancy measures and # of zip codes averaged\n",
    "\n",
    "full_df['hesitant_x_nzip'] = full_df['pct_hesitant_02-24-22'] * full_df['n_zipcodes']\n",
    "full_df['somewhat_hesitant_x_nzip'] = full_df['pct_somewhat_hesitant_02-24-22'] * full_df['n_zipcodes']\n",
    "full_df['highly_hesitant_x_nzip'] = full_df['pct_highly_hesitant_02-24-22'] * full_df['n_zipcodes']"
   ]
  },
  {
   "cell_type": "code",
   "execution_count": 74,
   "id": "ce5047bc-09fb-4a9a-9b67-327895de40ba",
   "metadata": {},
   "outputs": [],
   "source": [
    "# Make 'candidate_won' numeric\n",
    "full_df['candidate_won'] = full_df['candidate_won'].map({'Donald Trump':1, 'Joe Biden':0})"
   ]
  },
  {
   "cell_type": "code",
   "execution_count": 75,
   "id": "b3103669-3cef-45ec-a158-5c5f9fd3a1c0",
   "metadata": {},
   "outputs": [],
   "source": [
    "# Add % over 65 columns\n",
    "full_df['Census2019_Pct_65Plus'] = full_df['Census2019_65PlusPop'] / full_df['Census2019']"
   ]
  },
  {
   "cell_type": "code",
   "execution_count": 76,
   "id": "5de7cb67-911d-406f-85e7-34dbf40f6448",
   "metadata": {},
   "outputs": [],
   "source": [
    "# Drop unwanted columns\n",
    "\n",
    "full_df.drop(columns=['party', 'count', 'County', 'State', 'total_votes', 'winner_votes', 'socio_std', 'hh_std', 'housing_std', 'overall_std','minority_std', \n",
    "                      'Dose1_Recip_030121', 'Dose1_Recip_090121', 'Dose1_Recip_030122', 'n_zipcodes'], inplace=True)\n"
   ]
  },
  {
   "cell_type": "code",
   "execution_count": 77,
   "id": "3cf59922",
   "metadata": {},
   "outputs": [],
   "source": [
    "full_df.to_csv('../clean_data/full_merged_data.csv')"
   ]
  },
  {
   "cell_type": "code",
   "execution_count": 78,
   "id": "07e3813b-4af7-46c5-be0d-f28409bf8cdb",
   "metadata": {},
   "outputs": [
    {
     "data": {
      "text/plain": [
       "pct_hesitant_02-24-22             53\n",
       "pct_somewhat_hesitant_02-24-22    53\n",
       "pct_highly_hesitant_02-24-22      53\n",
       "null_pct                          53\n",
       "uninsured_pct                     53\n",
       "socio_wgt                         53\n",
       "hh_wgt                            53\n",
       "minority_wgt                      53\n",
       "housing_wgt                       53\n",
       "overall_wgt                       53\n",
       "FIPS                               4\n",
       "Dose1_Pop_Pct_030121               4\n",
       "Series_Complete_Pop_Pct_030121     4\n",
       "Booster_Doses_Vax_Pct_030121       4\n",
       "Dose1_Pop_Pct_090121               4\n",
       "Series_Complete_Pop_Pct_090121     4\n",
       "Booster_Doses_Vax_Pct_090121       4\n",
       "Dose1_Pop_Pct_030122               4\n",
       "Series_Complete_Pop_Pct_030122     4\n",
       "Booster_Doses_Vax_Pct_030122       4\n",
       "SVI_CTGY                          54\n",
       "Metro_status                      54\n",
       "Census2019                        53\n",
       "Census2019_65PlusPop              53\n",
       "Census2019_18to64Pop              53\n",
       "state                             49\n",
       "candidate_won                     49\n",
       "pct_trump                         49\n",
       "pct_biden                         49\n",
       "hesitant_x_nzip                   53\n",
       "somewhat_hesitant_x_nzip          53\n",
       "highly_hesitant_x_nzip            53\n",
       "Census2019_Pct_65Plus             53\n",
       "dtype: int64"
      ]
     },
     "execution_count": 78,
     "metadata": {},
     "output_type": "execute_result"
    }
   ],
   "source": [
    "full_df.isna().sum()"
   ]
  },
  {
   "cell_type": "code",
   "execution_count": 79,
   "id": "ca8537d9-7c59-4b73-a2d9-43f867caafb1",
   "metadata": {},
   "outputs": [
    {
     "data": {
      "text/plain": [
       "(3195, 33)"
      ]
     },
     "execution_count": 79,
     "metadata": {},
     "output_type": "execute_result"
    }
   ],
   "source": [
    "full_df.shape"
   ]
  },
  {
   "cell_type": "code",
   "execution_count": null,
   "id": "682fd6ec-d7f4-4dcf-9713-22f431528fe3",
   "metadata": {},
   "outputs": [],
   "source": []
  }
 ],
 "metadata": {
  "kernelspec": {
   "display_name": "Python 3 (ipykernel)",
   "language": "python",
   "name": "python3"
  },
  "language_info": {
   "codemirror_mode": {
    "name": "ipython",
    "version": 3
   },
   "file_extension": ".py",
   "mimetype": "text/x-python",
   "name": "python",
   "nbconvert_exporter": "python",
   "pygments_lexer": "ipython3",
   "version": "3.9.7"
  }
 },
 "nbformat": 4,
 "nbformat_minor": 5
}
