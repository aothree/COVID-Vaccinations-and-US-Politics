{
 "cells": [
  {
   "cell_type": "markdown",
   "id": "e5508939-ee35-4c38-9d02-5b30043dc587",
   "metadata": {},
   "source": [
    "**Social Vulnerability Data**\n",
    "\n",
    "Jacqueline Simeone"
   ]
  },
  {
   "cell_type": "code",
   "execution_count": 2,
   "id": "9f2316a7",
   "metadata": {},
   "outputs": [],
   "source": [
    "import pandas as pd\n",
    "import numpy as np"
   ]
  },
  {
   "cell_type": "code",
   "execution_count": 3,
   "id": "bc4cca61",
   "metadata": {},
   "outputs": [],
   "source": [
    "df_og = pd.read_csv('../source_data/SRC_SVI2018_US.csv')"
   ]
  },
  {
   "cell_type": "code",
   "execution_count": 4,
   "id": "a9de4c44",
   "metadata": {},
   "outputs": [],
   "source": [
    "#according to cdc website, nans are listed as -999.0\n",
    "df_og.replace(-999.0,np.nan, inplace=True)"
   ]
  },
  {
   "cell_type": "code",
   "execution_count": 5,
   "id": "49c09fad",
   "metadata": {},
   "outputs": [
    {
     "data": {
      "text/plain": [
       "F_TOTAL    664\n",
       "dtype: int64"
      ]
     },
     "execution_count": 5,
     "metadata": {},
     "output_type": "execute_result"
    }
   ],
   "source": [
    "df_og.isnull().sum().sort_values(ascending=False).head(1)"
   ]
  },
  {
   "cell_type": "code",
   "execution_count": 6,
   "id": "3130d029",
   "metadata": {},
   "outputs": [],
   "source": [
    "#create county_state feature\n",
    "df_og.rename(columns={'COUNTY':'og_county'}, inplace=True)\n",
    "df_og['county']=df_og['og_county']+'_'+df_og['ST_ABBR']"
   ]
  },
  {
   "cell_type": "code",
   "execution_count": 7,
   "id": "442fb207",
   "metadata": {},
   "outputs": [
    {
     "name": "stdout",
     "output_type": "stream",
     "text": [
      "3142\n",
      "340\n"
     ]
    }
   ],
   "source": [
    "themes_all=list(df_og['county'])\n",
    "themes_null=list(df_og[df_og['RPL_THEMES'].isnull()]['county'])\n",
    "themes_notnull = list(df_og[~df_og['RPL_THEMES'].isnull()]['county'])\n",
    "\n",
    "nulls=[]\n",
    "[nulls.append(x) for x in themes_null if x not in nulls]\n",
    "\n",
    "alls=[]\n",
    "[alls.append(x) for x in themes_all if x not in alls]\n",
    "\n",
    "print(len(alls))\n",
    "print(len(nulls))"
   ]
  },
  {
   "cell_type": "code",
   "execution_count": 8,
   "id": "92d98a2f",
   "metadata": {},
   "outputs": [
    {
     "data": {
      "text/plain": [
       "F_TOTAL       664\n",
       "SPL_THEMES    664\n",
       "dtype: int64"
      ]
     },
     "execution_count": 8,
     "metadata": {},
     "output_type": "execute_result"
    }
   ],
   "source": [
    "df_og.isnull().sum().sort_values(ascending=False).head(2)"
   ]
  },
  {
   "cell_type": "code",
   "execution_count": 9,
   "id": "9ffcb606",
   "metadata": {},
   "outputs": [],
   "source": [
    "#let's dummy whether or not the rpl themes column had a null.\n",
    "#then find the percent of nulls (% of tracks with missing data in counties)\n",
    "#creating new dataframe with this info to then merge at the county index\n",
    "df_og['RPL_THEMES_DUM']=(df_og['RPL_THEMES'].isnull()).astype(int)"
   ]
  },
  {
   "cell_type": "code",
   "execution_count": 10,
   "id": "020ec3a3",
   "metadata": {},
   "outputs": [],
   "source": [
    "df_rpl_dum = pd.DataFrame(df_og.copy().groupby('county')['RPL_THEMES_DUM'].mean())"
   ]
  },
  {
   "cell_type": "code",
   "execution_count": 11,
   "id": "b2cef22b",
   "metadata": {},
   "outputs": [],
   "source": [
    "#making a second county column so that I can use groupby after idexing\n",
    "df_og['county_2'] = df_og['county']"
   ]
  },
  {
   "cell_type": "code",
   "execution_count": 12,
   "id": "01f1e4c2",
   "metadata": {},
   "outputs": [],
   "source": [
    "#index on county\n",
    "df_og.set_index('county', inplace=True)"
   ]
  },
  {
   "cell_type": "code",
   "execution_count": 13,
   "id": "fb9b44bc",
   "metadata": {},
   "outputs": [],
   "source": [
    "df = pd.merge(df_og,df_rpl_dum, left_index=True, right_index=True)\n",
    "df.rename(columns={'RPL_THEMES_DUM_x':'RPL_THEMES_DUM', 'RPL_THEMES_DUM_y':'RPL_THEMES_DUM_PCT'}, inplace=True)"
   ]
  },
  {
   "cell_type": "markdown",
   "id": "a8837d93",
   "metadata": {},
   "source": [
    "Looked into whetehr or not dropping nans made sense above.\n",
    "Ended up making sense, as only one county was removed, Rio Arriba_NM. I'm going to manually add parameters for Rio Arriba."
   ]
  },
  {
   "cell_type": "code",
   "execution_count": 14,
   "id": "562ec6f0",
   "metadata": {},
   "outputs": [],
   "source": [
    "rio = df_og[df_og['og_county']=='Rio Arriba'][['E_UNINSUR','E_TOTPOP']]\n",
    "rio['weight']=rio['E_TOTPOP']/39307"
   ]
  },
  {
   "cell_type": "code",
   "execution_count": 15,
   "id": "87ac265c",
   "metadata": {},
   "outputs": [],
   "source": [
    "rio['UNINSURED_COUNT']=rio['E_UNINSUR']*rio['weight']"
   ]
  },
  {
   "cell_type": "code",
   "execution_count": 16,
   "id": "e58a4c06",
   "metadata": {},
   "outputs": [
    {
     "data": {
      "text/plain": [
       "0.012863340623561969"
      ]
     },
     "execution_count": 16,
     "metadata": {},
     "output_type": "execute_result"
    }
   ],
   "source": [
    "#total percent uninsured\n",
    "rio['UNINSURED_COUNT'].sum()/39307"
   ]
  },
  {
   "cell_type": "code",
   "execution_count": 17,
   "id": "ffd24516",
   "metadata": {},
   "outputs": [],
   "source": [
    "df_rio = df_og[df_og['county_2']=='Rio Arriba_NM']"
   ]
  },
  {
   "cell_type": "code",
   "execution_count": 18,
   "id": "ac397b0f",
   "metadata": {},
   "outputs": [],
   "source": [
    "#deciding to drop nans because we don't lose any counties by dropping\n",
    "#when we drop all, we lose 664 rows #df_og.shape[0]-df.shape[0]\n",
    "#this is equal to the amount of nans in the important summary stats\n",
    "df = df.copy().dropna()"
   ]
  },
  {
   "cell_type": "code",
   "execution_count": 19,
   "id": "67d2206c",
   "metadata": {},
   "outputs": [
    {
     "name": "stdout",
     "output_type": "stream",
     "text": [
      "3141\n"
     ]
    }
   ],
   "source": [
    "#double check we still have 3142 counties\n",
    "#list on county_2 because new index is 'county'\n",
    "themes_all=list(df['county_2'])\n",
    "\n",
    "all_lst=[]\n",
    "[all_lst.append(x) for x in themes_all if x not in all_lst]\n",
    "\n",
    "print(len(all_lst))"
   ]
  },
  {
   "cell_type": "code",
   "execution_count": 20,
   "id": "af30f812",
   "metadata": {},
   "outputs": [
    {
     "data": {
      "text/plain": [
       "3141"
      ]
     },
     "execution_count": 20,
     "metadata": {},
     "output_type": "execute_result"
    }
   ],
   "source": [
    "len(all_lst)"
   ]
  },
  {
   "cell_type": "code",
   "execution_count": 21,
   "id": "c2158ee4",
   "metadata": {},
   "outputs": [
    {
     "data": {
      "text/plain": [
       "3142"
      ]
     },
     "execution_count": 21,
     "metadata": {},
     "output_type": "execute_result"
    }
   ],
   "source": [
    "len(alls)"
   ]
  },
  {
   "cell_type": "code",
   "execution_count": 22,
   "id": "1923e352",
   "metadata": {},
   "outputs": [
    {
     "data": {
      "text/plain": [
       "{'Rio Arriba_NM'}"
      ]
     },
     "execution_count": 22,
     "metadata": {},
     "output_type": "execute_result"
    }
   ],
   "source": [
    "#one county was dropped. trying to see intersection but nothing is showing.\n",
    "def difference(lst1, lst2):\n",
    "   # final_list = list(set().difference(lst1, lst2))\n",
    "    final_list = set(lst1).difference(set(lst2))\n",
    "    return final_list\n",
    "\n",
    "difference(alls,all_lst)"
   ]
  },
  {
   "cell_type": "markdown",
   "id": "59ce924e",
   "metadata": {},
   "source": [
    "create count variable. if count != 1, then proceed with std column"
   ]
  },
  {
   "cell_type": "code",
   "execution_count": 23,
   "id": "fd8786ce",
   "metadata": {},
   "outputs": [],
   "source": [
    "df_count = pd.DataFrame(df.groupby('county_2')['ST'].count())\n",
    "df_count.rename(columns={'ST':'COUNT'}, inplace=True)\n",
    "df = pd.merge(df,df_count, left_index=True, right_index=True)"
   ]
  },
  {
   "cell_type": "markdown",
   "id": "450ed638",
   "metadata": {},
   "source": [
    "Add SD of 'RPL_THEME1', 'RPL_THEME2','RPL_THEME3','RPL_THEME4','RPL_THEMES'"
   ]
  },
  {
   "cell_type": "code",
   "execution_count": 24,
   "id": "12d8c36f",
   "metadata": {},
   "outputs": [],
   "source": [
    "def sd(column):\n",
    "    df_new = pd.DataFrame(df.groupby('county_2')[f'{column}'].describe())\n",
    "    df_new = df_new[['std']]\n",
    "    df = pd.merge(df,df_new, left_index=True, right_index=True)\n",
    "    df.rename(columns={'std':f'{column}_STD'}, inplace=True)"
   ]
  },
  {
   "cell_type": "code",
   "execution_count": 25,
   "id": "303bf6c9",
   "metadata": {},
   "outputs": [],
   "source": [
    "#['RPL_THEME1', 'RPL_THEME2','RPL_THEME3','RPL_THEME4','RPL_THEMES']:\n",
    "df_new = pd.DataFrame(df.groupby('county_2')['RPL_THEME1'].describe())\n",
    "df_new = df_new[['std']]\n",
    "df = pd.merge(df,df_new, left_index=True, right_index=True)\n",
    "df.rename(columns={'std':'RPL_THEME1_STD'}, inplace=True)"
   ]
  },
  {
   "cell_type": "code",
   "execution_count": 26,
   "id": "0637a8af",
   "metadata": {},
   "outputs": [],
   "source": [
    "#left: 'RPL_THEME2','RPL_THEME3','RPL_THEME4','RPL_THEMES']\n",
    "df_new = pd.DataFrame(df.groupby('county_2')['RPL_THEME2'].describe())\n",
    "df_new = df_new[['std']]\n",
    "df = pd.merge(df,df_new, left_index=True, right_index=True)\n",
    "df.rename(columns={'std':'RPL_THEME2_STD'}, inplace=True)"
   ]
  },
  {
   "cell_type": "code",
   "execution_count": 27,
   "id": "e4c62680",
   "metadata": {},
   "outputs": [],
   "source": [
    "#left: 'RPL_THEME3','RPL_THEME4','RPL_THEMES']\n",
    "df_new = pd.DataFrame(df.groupby('county_2')['RPL_THEME3'].describe())\n",
    "df_new = df_new[['std']]\n",
    "df = pd.merge(df,df_new, left_index=True, right_index=True)\n",
    "df.rename(columns={'std':'RPL_THEME3_STD'}, inplace=True)"
   ]
  },
  {
   "cell_type": "code",
   "execution_count": 28,
   "id": "fe40999b",
   "metadata": {},
   "outputs": [],
   "source": [
    "#left: 'RPL_THEME4','RPL_THEMES']\n",
    "df_new = pd.DataFrame(df.groupby('county_2')['RPL_THEME4'].describe())\n",
    "df_new = df_new[['std']]\n",
    "df = pd.merge(df,df_new, left_index=True, right_index=True)\n",
    "df.rename(columns={'std':'RPL_THEME4_STD'}, inplace=True)"
   ]
  },
  {
   "cell_type": "code",
   "execution_count": 29,
   "id": "70096c59",
   "metadata": {},
   "outputs": [],
   "source": [
    "#left:'RPL_THEMES'\n",
    "df_new = pd.DataFrame(df.groupby('county_2')['RPL_THEMES'].describe())\n",
    "df_new = df_new[['std']]\n",
    "df = pd.merge(df,df_new, left_index=True, right_index=True)\n",
    "df.rename(columns={'std':'RPL_THEMES_STD'}, inplace=True)"
   ]
  },
  {
   "cell_type": "markdown",
   "id": "74c1c4a6",
   "metadata": {},
   "source": [
    "Now that we have STDs and no longer need repeating counties, let's find percent populations per entry. we'll then weight columns we want to keep."
   ]
  },
  {
   "cell_type": "markdown",
   "id": "ca2a5b0e",
   "metadata": {},
   "source": [
    "Deciding which columns to keep. \n",
    "As counties have multiple entries, I'll have to add SD, weighted scores, and county count."
   ]
  },
  {
   "cell_type": "code",
   "execution_count": 30,
   "id": "fcb5364b",
   "metadata": {
    "scrolled": true
   },
   "outputs": [],
   "source": [
    "#add total county population and then new column for % of county pop\n",
    "df_TOTPOP = pd.DataFrame(df.groupby('county_2')['E_TOTPOP'].sum())\n",
    "df_TOTPOP.rename(columns={'E_TOTPOP':'POP_TOTAL'},index={'count_2': 'county'}, inplace=True)\n",
    "df = pd.merge(df,df_TOTPOP, left_index=True, right_index=True)"
   ]
  },
  {
   "cell_type": "code",
   "execution_count": 31,
   "id": "5ec48186",
   "metadata": {
    "scrolled": true
   },
   "outputs": [],
   "source": [
    "#create column 'PCT_POP'\n",
    "df['POP_PCT']=df['E_TOTPOP']/df['POP_TOTAL']"
   ]
  },
  {
   "cell_type": "code",
   "execution_count": 32,
   "id": "8e514820",
   "metadata": {},
   "outputs": [],
   "source": [
    "#'E_UNINSUR' is the number of uninsured people. it should be added up then divided by total pop\n",
    "df_uninsured = pd.DataFrame(df.groupby('county_2')['E_UNINSUR'].sum())\n",
    "df_uninsured.rename(columns={'E_UNINSUR':'E_UNINSUR_TOTAL'},index={'count_2': 'county'}, inplace=True)\n",
    "df = pd.merge(df,df_uninsured, left_index=True, right_index=True)\n",
    "\n",
    "#divide total uninsured by population total\n",
    "df['PCT_UNINSURED'] = df['E_UNINSUR_TOTAL']/df['POP_TOTAL']"
   ]
  },
  {
   "cell_type": "code",
   "execution_count": 33,
   "id": "ea75ceb5",
   "metadata": {},
   "outputs": [],
   "source": [
    "#multiply 'RPL_THEME1', 'RPL_THEME2','RPL_THEME3','RPL_THEME4','RPL_THEMES' by 'POP_PCT'\n",
    "#then sum for final\n",
    "\n",
    "df['RPL_THEME1_WEIGHTED']= df['RPL_THEME1']*df['POP_PCT']\n",
    "df['RPL_THEME2_WEIGHTED'] = df['RPL_THEME2']*df['POP_PCT']\n",
    "df['RPL_THEME3_WEIGHTED'] = df['RPL_THEME3']*df['POP_PCT']\n",
    "df['RPL_THEME4_WEIGHTED'] = df['RPL_THEME4']*df['POP_PCT']\n",
    "df['RPL_THEMES_WEIGHTED'] = df['RPL_THEMES']*df['POP_PCT']"
   ]
  },
  {
   "cell_type": "code",
   "execution_count": 34,
   "id": "201ff949",
   "metadata": {},
   "outputs": [],
   "source": [
    "#create and add weighted rpl theme columns to df\n",
    "\n",
    "df_theme1_weight = pd.DataFrame(df.groupby('county_2')['RPL_THEME1_WEIGHTED'].sum())\n",
    "df_theme2_weight = pd.DataFrame(df.groupby('county_2')['RPL_THEME2_WEIGHTED'].sum())\n",
    "df_theme3_weight = pd.DataFrame(df.groupby('county_2')['RPL_THEME3_WEIGHTED'].sum())\n",
    "df_theme4_weight = pd.DataFrame(df.groupby('county_2')['RPL_THEME4_WEIGHTED'].sum())\n",
    "df_themes_weight = pd.DataFrame(df.groupby('county_2')['RPL_THEMES_WEIGHTED'].sum())\n",
    "\n",
    "df = pd.merge(df,df_theme1_weight, left_index=True, right_index=True)\n",
    "df.rename(columns={'RPL_THEME1_WEIGHTED_y':'RPL1_WEIGHTED_SUM', \n",
    "                   'RPL_THEME1_WEIGHTED_x':'RPL1_WEIGHTED_INDIV'}, inplace=True)\n",
    "df = pd.merge(df,df_theme2_weight, left_index=True, right_index=True)\n",
    "df.rename(columns={'RPL_THEME2_WEIGHTED_y':'RPL2_WEIGHTED_SUM', \n",
    "                   'RPL_THEME2_WEIGHTED_x':'RPL2_WEIGHTED_INDIV'}, inplace=True)\n",
    "df = pd.merge(df,df_theme3_weight, left_index=True, right_index=True)\n",
    "df.rename(columns={'RPL_THEME3_WEIGHTED_y':'RPL3_WEIGHTED_SUM', \n",
    "                   'RPL_THEME3_WEIGHTED_x':'RPL3_WEIGHTED_INDIV'}, inplace=True)\n",
    "df = pd.merge(df,df_theme4_weight, left_index=True, right_index=True)\n",
    "df.rename(columns={'RPL_THEME4_WEIGHTED_y':'RPL4_WEIGHTED_SUM', \n",
    "                   'RPL_THEME4_WEIGHTED_x':'RPL4_WEIGHTED_INDIV'}, inplace=True)\n",
    "df = pd.merge(df,df_themes_weight, left_index=True, right_index=True)\n",
    "df.rename(columns={'RPL_THEMES_WEIGHTED_y':'RPLS_WEIGHTED_SUM', \n",
    "                   'RPL_THEMES_WEIGHTED_x':'RPLS_WEIGHTED_INDIV'}, inplace=True)"
   ]
  },
  {
   "cell_type": "code",
   "execution_count": 46,
   "id": "db2726c5",
   "metadata": {
    "scrolled": true
   },
   "outputs": [
    {
     "data": {
      "text/html": [
       "<div>\n",
       "<style scoped>\n",
       "    .dataframe tbody tr th:only-of-type {\n",
       "        vertical-align: middle;\n",
       "    }\n",
       "\n",
       "    .dataframe tbody tr th {\n",
       "        vertical-align: top;\n",
       "    }\n",
       "\n",
       "    .dataframe thead th {\n",
       "        text-align: right;\n",
       "    }\n",
       "</style>\n",
       "<table border=\"1\" class=\"dataframe\">\n",
       "  <thead>\n",
       "    <tr style=\"text-align: right;\">\n",
       "      <th></th>\n",
       "      <th>RPL_THEME1_STD</th>\n",
       "      <th>RPL_THEME2_STD</th>\n",
       "      <th>RPL_THEME3_STD</th>\n",
       "      <th>RPL_THEME4_STD</th>\n",
       "      <th>RPL_THEMES_STD</th>\n",
       "      <th>RPL_THEMES_DUM_PCT</th>\n",
       "      <th>PCT_UNINSURED</th>\n",
       "      <th>RPL1_WEIGHTED_SUM</th>\n",
       "      <th>RPL2_WEIGHTED_SUM</th>\n",
       "      <th>RPL3_WEIGHTED_SUM</th>\n",
       "      <th>RPL4_WEIGHTED_SUM</th>\n",
       "      <th>RPLS_WEIGHTED_SUM</th>\n",
       "      <th>COUNT</th>\n",
       "      <th>FIPS</th>\n",
       "    </tr>\n",
       "  </thead>\n",
       "  <tbody>\n",
       "    <tr>\n",
       "      <th>Abbeville_SC</th>\n",
       "      <td>0.089387</td>\n",
       "      <td>0.195687</td>\n",
       "      <td>0.160383</td>\n",
       "      <td>0.134782</td>\n",
       "      <td>0.13034</td>\n",
       "      <td>0.0</td>\n",
       "      <td>0.11514</td>\n",
       "      <td>0.799646</td>\n",
       "      <td>0.793354</td>\n",
       "      <td>0.352214</td>\n",
       "      <td>0.674209</td>\n",
       "      <td>0.752302</td>\n",
       "      <td>6</td>\n",
       "      <td>45001950400</td>\n",
       "    </tr>\n",
       "    <tr>\n",
       "      <th>Abbeville_SC</th>\n",
       "      <td>0.089387</td>\n",
       "      <td>0.195687</td>\n",
       "      <td>0.160383</td>\n",
       "      <td>0.134782</td>\n",
       "      <td>0.13034</td>\n",
       "      <td>0.0</td>\n",
       "      <td>0.11514</td>\n",
       "      <td>0.799646</td>\n",
       "      <td>0.793354</td>\n",
       "      <td>0.352214</td>\n",
       "      <td>0.674209</td>\n",
       "      <td>0.752302</td>\n",
       "      <td>6</td>\n",
       "      <td>45001950600</td>\n",
       "    </tr>\n",
       "  </tbody>\n",
       "</table>\n",
       "</div>"
      ],
      "text/plain": [
       "              RPL_THEME1_STD  RPL_THEME2_STD  RPL_THEME3_STD  RPL_THEME4_STD  \\\n",
       "Abbeville_SC        0.089387        0.195687        0.160383        0.134782   \n",
       "Abbeville_SC        0.089387        0.195687        0.160383        0.134782   \n",
       "\n",
       "              RPL_THEMES_STD  RPL_THEMES_DUM_PCT  PCT_UNINSURED  \\\n",
       "Abbeville_SC         0.13034                 0.0        0.11514   \n",
       "Abbeville_SC         0.13034                 0.0        0.11514   \n",
       "\n",
       "              RPL1_WEIGHTED_SUM  RPL2_WEIGHTED_SUM  RPL3_WEIGHTED_SUM  \\\n",
       "Abbeville_SC           0.799646           0.793354           0.352214   \n",
       "Abbeville_SC           0.799646           0.793354           0.352214   \n",
       "\n",
       "              RPL4_WEIGHTED_SUM  RPLS_WEIGHTED_SUM  COUNT         FIPS  \n",
       "Abbeville_SC           0.674209           0.752302      6  45001950400  \n",
       "Abbeville_SC           0.674209           0.752302      6  45001950600  "
      ]
     },
     "execution_count": 46,
     "metadata": {},
     "output_type": "execute_result"
    }
   ],
   "source": [
    "columns_keep = [ \n",
    "                'RPL_THEME1_STD', 'RPL_THEME2_STD','RPL_THEME3_STD',\n",
    "                'RPL_THEME4_STD','RPL_THEMES_STD',\n",
    "                #'POP_PCT', 'POP_TOTAL', 'RPL_THEMES_DUM', 'RPL3_WEIGHTED_INDIV'\n",
    "                # 'RPL1_WEIGHTED_INDIV','RPL2_WEIGHTED_INDIV','RPL4_WEIGHTED_INDIV',\n",
    "                #  'RPLS_WEIGHTED_INDIV'\n",
    "                'RPL_THEMES_DUM_PCT', 'PCT_UNINSURED', 'RPL1_WEIGHTED_SUM',\n",
    "                'RPL2_WEIGHTED_SUM', 'RPL3_WEIGHTED_SUM', 'RPL4_WEIGHTED_SUM',\n",
    "                'RPLS_WEIGHTED_SUM', 'COUNT','FIPS'\n",
    "               ]\n",
    "\n",
    "df[columns_keep].head(2)"
   ]
  },
  {
   "cell_type": "code",
   "execution_count": 47,
   "id": "579474d9",
   "metadata": {},
   "outputs": [
    {
     "data": {
      "text/plain": [
       "72173"
      ]
     },
     "execution_count": 47,
     "metadata": {},
     "output_type": "execute_result"
    }
   ],
   "source": [
    "df[columns_keep].drop_duplicates().shape[0]"
   ]
  },
  {
   "cell_type": "code",
   "execution_count": 57,
   "id": "2e6bd9cd",
   "metadata": {},
   "outputs": [],
   "source": [
    "df_clean = df[columns_keep].drop_duplicates()"
   ]
  },
  {
   "cell_type": "code",
   "execution_count": 58,
   "id": "a3dbf72f",
   "metadata": {},
   "outputs": [],
   "source": [
    "df_clean.rename(columns={'RPL_THEME1_STD':'socio_std',\n",
    "                         'RPL_THEME2_STD':'hh_std',\n",
    "                         'RPL_THEME3_STD':'minority_std',\n",
    "                         'RPL_THEME4_STD':'housing_std',\n",
    "                         'RPL_THEMES_STD':'overall_std',\n",
    "                         'RPL_THEMES_DUM_PCT':'null_pct',\n",
    "                         'PCT_UNINSURED':'uninsured_pct',\n",
    "                         'RPL1_WEIGHTED_SUM':'socio_wgt',\n",
    "                         'RPL2_WEIGHTED_SUM':'hh_wgt',\n",
    "                         'RPL3_WEIGHTED_SUM':'minority_wgt',\n",
    "                         'RPL4_WEIGHTED_SUM':'housing_wgt',\n",
    "                         'RPLS_WEIGHTED_SUM':'overall_wgt',\n",
    "                         'COUNT':'count'\n",
    "                        }, inplace=True)"
   ]
  },
  {
   "cell_type": "code",
   "execution_count": 40,
   "id": "f0961559",
   "metadata": {},
   "outputs": [],
   "source": [
    "#df_og[df_og['STATE']=='NEW MEXICO']#.value_counts().head(30)"
   ]
  },
  {
   "cell_type": "code",
   "execution_count": 59,
   "id": "5f23b440",
   "metadata": {},
   "outputs": [],
   "source": [
    "df_clean.reset_index(inplace=True)"
   ]
  },
  {
   "cell_type": "code",
   "execution_count": 60,
   "id": "1045c646",
   "metadata": {},
   "outputs": [
    {
     "data": {
      "text/plain": [
       "0        Abbeville_SC\n",
       "1        Abbeville_SC\n",
       "2        Abbeville_SC\n",
       "3        Abbeville_SC\n",
       "4        Abbeville_SC\n",
       "             ...     \n",
       "72168       Zavala_TX\n",
       "72169       Zavala_TX\n",
       "72170       Zavala_TX\n",
       "72171       Zavala_TX\n",
       "72172      Ziebach_SD\n",
       "Name: index, Length: 72173, dtype: object"
      ]
     },
     "execution_count": 60,
     "metadata": {},
     "output_type": "execute_result"
    }
   ],
   "source": [
    "df_clean['index']"
   ]
  },
  {
   "cell_type": "code",
   "execution_count": 55,
   "id": "f630074c",
   "metadata": {},
   "outputs": [
    {
     "data": {
      "text/html": [
       "<div>\n",
       "<style scoped>\n",
       "    .dataframe tbody tr th:only-of-type {\n",
       "        vertical-align: middle;\n",
       "    }\n",
       "\n",
       "    .dataframe tbody tr th {\n",
       "        vertical-align: top;\n",
       "    }\n",
       "\n",
       "    .dataframe thead th {\n",
       "        text-align: right;\n",
       "    }\n",
       "</style>\n",
       "<table border=\"1\" class=\"dataframe\">\n",
       "  <thead>\n",
       "    <tr style=\"text-align: right;\">\n",
       "      <th></th>\n",
       "      <th>index</th>\n",
       "      <th>socio_std</th>\n",
       "      <th>hh_std</th>\n",
       "      <th>minority_std</th>\n",
       "      <th>housing_std</th>\n",
       "      <th>overall_std</th>\n",
       "      <th>null_pct</th>\n",
       "      <th>uninsured_pct</th>\n",
       "      <th>socio_wgt</th>\n",
       "      <th>hh_wgt</th>\n",
       "      <th>minority_wgt</th>\n",
       "      <th>housing_wgt</th>\n",
       "      <th>overall_wgt</th>\n",
       "      <th>count</th>\n",
       "      <th>FIPS</th>\n",
       "    </tr>\n",
       "  </thead>\n",
       "  <tbody>\n",
       "  </tbody>\n",
       "</table>\n",
       "</div>"
      ],
      "text/plain": [
       "Empty DataFrame\n",
       "Columns: [index, socio_std, hh_std, minority_std, housing_std, overall_std, null_pct, uninsured_pct, socio_wgt, hh_wgt, minority_wgt, housing_wgt, overall_wgt, count, FIPS]\n",
       "Index: []"
      ]
     },
     "execution_count": 55,
     "metadata": {},
     "output_type": "execute_result"
    }
   ],
   "source": [
    "df_clean[df_clean['index']=='Estancia_NM']\n",
    "#039 rio 055 taos"
   ]
  },
  {
   "cell_type": "code",
   "execution_count": null,
   "id": "59b42f61",
   "metadata": {},
   "outputs": [],
   "source": [
    "df_"
   ]
  },
  {
   "cell_type": "code",
   "execution_count": 141,
   "id": "0c73075a",
   "metadata": {},
   "outputs": [],
   "source": [
    "df_rio = pd.DataFrame({'index':['Rio Arriba_NM'], 'socio_std':[0.094696], 'hh_std':[0.167799], \n",
    "                       'minority_std':[0.170754], 'housing_std':[0.178407],\n",
    "       'overall_std':[0.099379], 'null_pct':[1.0], 'uninsured_pct':[0.012], 'socio_wgt':[0.69407], \n",
    "                       'hh_wgt':[0.740663],'minority_wgt':[0.68468], 'housing_wgt':[0.716337],\n",
    "                       'overall_wgt':[0.781358], 'count':[9], 'FIPS':12345})"
   ]
  },
  {
   "cell_type": "code",
   "execution_count": 142,
   "id": "3c707b72",
   "metadata": {},
   "outputs": [],
   "source": [
    "df_new = pd.concat([df_clean, df_rio])"
   ]
  },
  {
   "cell_type": "code",
   "execution_count": 143,
   "id": "126b6afa",
   "metadata": {},
   "outputs": [],
   "source": [
    "index_dict = {'acadia_la':'acadia parish_la',\n",
    "'aleutians east_ak':'aleutians east_ak',\n",
    "'aleutians west_ak':'aleutians west census area_ak',\n",
    "'allen_la':'allen parish_la',\n",
    "'anchorage_ak':'anchorage municipality_ak',\n",
    "'ascension_la':'ascension parish_la',\n",
    "'assumption_la':'assumption parish_la',\n",
    "'avoyelles_la':'avoyelles parish_la',\n",
    "'beauregard_la':'beauregard parish_la',\n",
    "'bethel_ak':'bethel census area_ak',\n",
    "'bienville_la':'bienville parish_la',\n",
    "'bossier_la':'bossier parish_la',\n",
    "'bristol bay_ak':'bristol bay borough_ak',\n",
    "'caddo_la':'caddo parish_la',\n",
    "'calcasieu_la':'calcasieu parish_la',\n",
    "'caldwell_la':'caldwell parish_la',\n",
    "'cameron_la':'cameron parish_la',\n",
    "'catahoula_la':'catahoula parish_la',\n",
    "'claiborne_la':'claiborne parish_la',\n",
    "'concordia_la':'concordia parish_la',\n",
    "'de soto_la':'de soto parish_la',\n",
    "'denali_ak':'denali borough_ak',\n",
    "'dillingham_ak':'dillingham census area_ak',\n",
    "'do√±a ana_nm':'dona ana_nm',\n",
    "'east baton rouge_la':'east baton rouge parish_la',\n",
    "'east carroll_la':'east carroll parish_la',\n",
    "'east feliciana_la':'east feliciana parish_la',\n",
    "'evangeline_la':'evangeline parish_la',\n",
    "'fairbanks north star_ak':'fairbanks north star borough_ak',\n",
    "'franklin_la':'franklin parish_la',\n",
    "'grant_la':'grant parish_la',\n",
    "'haines_ak':'haines borough_ak',\n",
    "'hoonah-angoon_ak':'hoonah-angoon census area_ak',\n",
    "'iberia_la':'iberia parish_la',\n",
    "'iberville_la':'iberville parish_la',\n",
    "'jackson_la':'jackson parish_la',\n",
    "'jefferson davis_la':'jefferson davis parish_la',\n",
    "'jefferson_la':'jefferson parish_la',\n",
    "'kenai peninsula_ak':'kenai peninsula borough_ak',\n",
    "'ketchikan gateway_ak':'ketchikan gateway borough_ak',\n",
    "'kodiak island_ak':'kodiak island borough_ak',\n",
    "'kusilvak_ak':'kusilvak census area_ak',\n",
    "'lafayette_la':'lafayette parish_la',\n",
    "'lafourche_la':'lafourche parish_la',\n",
    "'lake and peninsula_ak':'lake and peninsula borough_ak',\n",
    "'lincoln_la':'lincoln parish_la',\n",
    "'livingston_la':'livingston parish_la',\n",
    "'madison_la':'madison parish_la',\n",
    "'matanuska-susitna_ak':'matanuska-susitna borough_ak',\n",
    "'morehouse_la':'morehouse parish_la',\n",
    "'natchitoches_la':'natchitoches parish_la',\n",
    "'nome_ak':'nome census area_ak',\n",
    "'north slope_ak':'north slope borough_ak',\n",
    "'northwest arctic_ak':'northwest arctic borough_ak',\n",
    "'orleans_la':'orleans parish_la',\n",
    "'ouachita_la':'ouachita parish_la',\n",
    "'petersburg_ak':'petersburg borough_ak',\n",
    "'plaquemines_la':'plaquemines parish_la',\n",
    "'pointe coupee_la':'pointe coupee parish_la',\n",
    "'prince of wales-hyder_ak':'prince of wales-hyder census area_ak',\n",
    "'rapides_la':'rapides parish_la',\n",
    "'red river_la':'red river parish_la',\n",
    "'richland_la':'richland parish_la',\n",
    "'sabine_la':'sabine parish_la',\n",
    "'skagway_ak':'skagway municipality_ak',\n",
    "'southeast fairbanks_ak':'southeast fairbanks census area_ak',\n",
    "'st. bernard_la':'st. bernard parish_la',\n",
    "'st. charles_la':'st. charles parish_la',\n",
    "'st. helena_la':'st. helena parish_la',\n",
    "'st. james_la':'st. james parish_la',\n",
    "'st. john the baptist_la':'st. john the baptist parish_la',\n",
    "'st. landry_la':'st. landry parish_la',\n",
    "'st. martin_la':'st. martin parish_la',\n",
    "'st. mary_la':'st. mary parish_la',\n",
    "'st. tammany_la':'st. tammany parish_la',\n",
    "'tangipahoa_la':'tangipahoa parish_la',\n",
    "'tensas_la':'tensas parish_la',\n",
    "'terrebonne_la':'terrebonne parish_la',\n",
    "'union_la':'union parish_la',\n",
    "'vermilion_la':'vermilion parish_la',\n",
    "'vernon_la':'vernon parish_la',\n",
    "'washington_la':'washington parish_la',\n",
    "'webster_la':'webster parish_la',\n",
    "'west baton rouge_la':'west baton rouge parish_la',\n",
    "'west carroll_la':'west carroll parish_la',\n",
    "'west feliciana_la':'west feliciana parish_la',\n",
    "'winn_la':'winn parish_la',\n",
    "'yukon-koyukuk_ak':'yukon-koyukuk census area_ak',\n",
    "'aleutians east_ak':'aleutians east borough_ak',\n",
    "'lasalle_la':'la salle parish_la'}"
   ]
  },
  {
   "cell_type": "code",
   "execution_count": 144,
   "id": "472e17c1",
   "metadata": {},
   "outputs": [],
   "source": [
    "df_new['index'] = df_new['index'].str.lower()\n",
    "df_new.replace({'index':index_dict}, inplace=True)"
   ]
  },
  {
   "cell_type": "code",
   "execution_count": 145,
   "id": "a960e2a5",
   "metadata": {},
   "outputs": [],
   "source": [
    "df_new.set_index('index', inplace=True)"
   ]
  },
  {
   "cell_type": "code",
   "execution_count": 146,
   "id": "6349bde8",
   "metadata": {},
   "outputs": [],
   "source": [
    "df_new.to_csv('../clean_data/svi_clean.csv')"
   ]
  },
  {
   "cell_type": "code",
   "execution_count": 147,
   "id": "dec0304b",
   "metadata": {},
   "outputs": [
    {
     "data": {
      "text/plain": [
       "(3142, 13)"
      ]
     },
     "execution_count": 147,
     "metadata": {},
     "output_type": "execute_result"
    }
   ],
   "source": [
    "df_new.shape"
   ]
  }
 ],
 "metadata": {
  "kernelspec": {
   "display_name": "Python 3 (ipykernel)",
   "language": "python",
   "name": "python3"
  },
  "language_info": {
   "codemirror_mode": {
    "name": "ipython",
    "version": 3
   },
   "file_extension": ".py",
   "mimetype": "text/x-python",
   "name": "python",
   "nbconvert_exporter": "python",
   "pygments_lexer": "ipython3",
   "version": "3.9.7"
  }
 },
 "nbformat": 4,
 "nbformat_minor": 5
}
