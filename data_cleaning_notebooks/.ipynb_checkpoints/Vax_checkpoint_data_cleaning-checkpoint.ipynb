{
 "cells": [
  {
   "cell_type": "markdown",
   "id": "ad174045-853e-483d-86c5-694ca6384f89",
   "metadata": {},
   "source": [
    "**Vaccination Checkpoint Data Extraction**\n",
    "\n",
    "Andy Orfalea"
   ]
  },
  {
   "cell_type": "code",
   "execution_count": 1,
   "id": "a632171d-8d97-46be-9897-c81a54b755ea",
   "metadata": {},
   "outputs": [],
   "source": [
    "import pandas as pd\n",
    "import numpy as np\n",
    "import seaborn as sns\n",
    "from sklearn.preprocessing import StandardScaler\n",
    "from sklearn.cluster import KMeans\n",
    "from sklearn.cluster import DBSCAN\n",
    "from sklearn.metrics import silhouette_score\n",
    "pd.set_option('display.max_columns', 500)"
   ]
  },
  {
   "cell_type": "code",
   "execution_count": 2,
   "id": "7c2f2218-cd2b-4c2e-a945-3d1e2b2b9c99",
   "metadata": {},
   "outputs": [],
   "source": [
    "df = pd.read_csv('./source_data/COVID-19_Vaccinations_in_the_United_States_County.csv')"
   ]
  },
  {
   "cell_type": "code",
   "execution_count": null,
   "id": "8972a37e-2c00-49fe-be74-1302eaf17943",
   "metadata": {},
   "outputs": [],
   "source": [
    "df.shape"
   ]
  },
  {
   "cell_type": "code",
   "execution_count": null,
   "id": "d6987880-86f8-4454-addb-0b28dd0add26",
   "metadata": {},
   "outputs": [],
   "source": [
    "df.head()"
   ]
  },
  {
   "cell_type": "code",
   "execution_count": 3,
   "id": "104543f5-1c3b-496b-89f4-613b3156a5c6",
   "metadata": {},
   "outputs": [],
   "source": [
    "df['Date']  = pd.to_datetime(df['Date'])"
   ]
  },
  {
   "cell_type": "code",
   "execution_count": null,
   "id": "f9d14014-982d-4ec2-adeb-08936b24f21f",
   "metadata": {},
   "outputs": [],
   "source": [
    "df.dtypes"
   ]
  },
  {
   "cell_type": "code",
   "execution_count": 4,
   "id": "07f9844d-990b-45e9-b5f9-392fe4bfcb7a",
   "metadata": {},
   "outputs": [],
   "source": [
    "df['Recip_County'] = df['Recip_County'] + '_' + df['Recip_State']"
   ]
  },
  {
   "cell_type": "code",
   "execution_count": 5,
   "id": "f0b47d2c-3586-4745-955d-f83c8e1f09d9",
   "metadata": {},
   "outputs": [],
   "source": [
    "drop_states = ['AS','FM','GU','MH','MP','PR','PW','VI','UNK'] # drop anything that's not 50 contiguous + DC\n",
    "df = df[df['Recip_State'].map(lambda x : x not in drop_states)]"
   ]
  },
  {
   "cell_type": "code",
   "execution_count": null,
   "id": "4d75142b-cbc3-4683-baf4-169f821fac5c",
   "metadata": {},
   "outputs": [],
   "source": [
    "df.groupby('Metro_status').mean().T"
   ]
  },
  {
   "cell_type": "code",
   "execution_count": null,
   "id": "980e9bc3-a5d3-4b31-9599-c1e216e5ff28",
   "metadata": {},
   "outputs": [],
   "source": [
    "cluster_df = df.groupby('Recip_County').mean().sort_values(by = 'Completeness_pct')"
   ]
  },
  {
   "cell_type": "code",
   "execution_count": null,
   "id": "5c983da4-7a22-444c-a5f0-41e0c7e86bc6",
   "metadata": {},
   "outputs": [],
   "source": [
    "cluster_df.dropna(inplace = True) #won't be able to fit DBSCAN with nulls.  "
   ]
  },
  {
   "cell_type": "code",
   "execution_count": null,
   "id": "86e95bf4-2bf2-468e-9d88-47eecc1423d2",
   "metadata": {},
   "outputs": [],
   "source": [
    "ss = StandardScaler()\n",
    "X_scaled = ss.fit_transform(cluster_df)\n",
    "dbscan = DBSCAN()\n",
    "dbscan.fit(X_scaled)"
   ]
  },
  {
   "cell_type": "code",
   "execution_count": null,
   "id": "83c7c722-624c-4d13-9401-f379facc6db9",
   "metadata": {},
   "outputs": [],
   "source": [
    "dbscan.labels_"
   ]
  },
  {
   "cell_type": "code",
   "execution_count": null,
   "id": "5749251d-638a-4b7f-94df-de544f55aae2",
   "metadata": {},
   "outputs": [],
   "source": [
    "km = KMeans(n_clusters=3, random_state=42)\n",
    "km.fit(X_scaled)"
   ]
  },
  {
   "cell_type": "code",
   "execution_count": null,
   "id": "68648299-4a59-4aa2-bd10-1374ff736ccd",
   "metadata": {},
   "outputs": [],
   "source": [
    "cluster_df['cluster'] = km.labels_"
   ]
  },
  {
   "cell_type": "code",
   "execution_count": null,
   "id": "c62181e8-b7c9-425c-93e4-afaff4235a2f",
   "metadata": {},
   "outputs": [],
   "source": [
    "cluster_df.groupby('cluster').mean()"
   ]
  },
  {
   "cell_type": "markdown",
   "id": "c0c86f52-c28b-4abc-bd2a-a81b6a52b165",
   "metadata": {},
   "source": [
    "### Filter to only Administered Dose Recipients, Administered Dose Pct, Series Complete Pop PCT SVI, Booster Doses Vax Pct.  Df should have columns with data from 3 specific checkpoint dates: 030121, 090121, 030122"
   ]
  },
  {
   "cell_type": "code",
   "execution_count": 7,
   "id": "4935416e-de2e-4ef7-a3d4-e859ccb093fa",
   "metadata": {},
   "outputs": [
    {
     "data": {
      "text/html": [
       "<div>\n",
       "<style scoped>\n",
       "    .dataframe tbody tr th:only-of-type {\n",
       "        vertical-align: middle;\n",
       "    }\n",
       "\n",
       "    .dataframe tbody tr th {\n",
       "        vertical-align: top;\n",
       "    }\n",
       "\n",
       "    .dataframe thead th {\n",
       "        text-align: right;\n",
       "    }\n",
       "</style>\n",
       "<table border=\"1\" class=\"dataframe\">\n",
       "  <thead>\n",
       "    <tr style=\"text-align: right;\">\n",
       "      <th></th>\n",
       "      <th>FIPS</th>\n",
       "      <th>Dose1_Recip_030121</th>\n",
       "      <th>Dose1_Pop_Pct_030121</th>\n",
       "      <th>Series_Complete_Pop_Pct_030121</th>\n",
       "      <th>Booster_Doses_Vax_Pct_030121</th>\n",
       "      <th>Dose1_Recip_090121</th>\n",
       "      <th>Dose1_Pop_Pct_090121</th>\n",
       "      <th>Series_Complete_Pop_Pct_090121</th>\n",
       "      <th>Booster_Doses_Vax_Pct_090121</th>\n",
       "      <th>Dose1_Recip_030122</th>\n",
       "      <th>Dose1_Pop_Pct_030122</th>\n",
       "      <th>Series_Complete_Pop_Pct_030122</th>\n",
       "      <th>Booster_Doses_Vax_Pct_030122</th>\n",
       "    </tr>\n",
       "    <tr>\n",
       "      <th>Recip_County</th>\n",
       "      <th></th>\n",
       "      <th></th>\n",
       "      <th></th>\n",
       "      <th></th>\n",
       "      <th></th>\n",
       "      <th></th>\n",
       "      <th></th>\n",
       "      <th></th>\n",
       "      <th></th>\n",
       "      <th></th>\n",
       "      <th></th>\n",
       "      <th></th>\n",
       "      <th></th>\n",
       "    </tr>\n",
       "  </thead>\n",
       "  <tbody>\n",
       "    <tr>\n",
       "      <th>Mason County_MI</th>\n",
       "      <td>26105</td>\n",
       "      <td>5795.0</td>\n",
       "      <td>19.9</td>\n",
       "      <td>12.1</td>\n",
       "      <td>NaN</td>\n",
       "      <td>NaN</td>\n",
       "      <td>0.0</td>\n",
       "      <td>51.7</td>\n",
       "      <td>NaN</td>\n",
       "      <td>17777.0</td>\n",
       "      <td>61.0</td>\n",
       "      <td>60.1</td>\n",
       "      <td>58.2</td>\n",
       "    </tr>\n",
       "    <tr>\n",
       "      <th>Colusa County_CA</th>\n",
       "      <td>06011</td>\n",
       "      <td>2666.0</td>\n",
       "      <td>12.4</td>\n",
       "      <td>3.8</td>\n",
       "      <td>NaN</td>\n",
       "      <td>11806.0</td>\n",
       "      <td>54.8</td>\n",
       "      <td>45.8</td>\n",
       "      <td>NaN</td>\n",
       "      <td>14465.0</td>\n",
       "      <td>67.1</td>\n",
       "      <td>59.7</td>\n",
       "      <td>33.6</td>\n",
       "    </tr>\n",
       "    <tr>\n",
       "      <th>Henry County_AL</th>\n",
       "      <td>01067</td>\n",
       "      <td>2369.0</td>\n",
       "      <td>13.8</td>\n",
       "      <td>6.1</td>\n",
       "      <td>NaN</td>\n",
       "      <td>6804.0</td>\n",
       "      <td>39.5</td>\n",
       "      <td>30.7</td>\n",
       "      <td>NaN</td>\n",
       "      <td>9335.0</td>\n",
       "      <td>54.3</td>\n",
       "      <td>44.9</td>\n",
       "      <td>33.8</td>\n",
       "    </tr>\n",
       "    <tr>\n",
       "      <th>Pulaski County_KY</th>\n",
       "      <td>21199</td>\n",
       "      <td>8231.0</td>\n",
       "      <td>12.7</td>\n",
       "      <td>6.1</td>\n",
       "      <td>NaN</td>\n",
       "      <td>28835.0</td>\n",
       "      <td>44.4</td>\n",
       "      <td>38.2</td>\n",
       "      <td>NaN</td>\n",
       "      <td>33758.0</td>\n",
       "      <td>52.0</td>\n",
       "      <td>45.6</td>\n",
       "      <td>40.9</td>\n",
       "    </tr>\n",
       "    <tr>\n",
       "      <th>Franklin city_VA</th>\n",
       "      <td>51620</td>\n",
       "      <td>0.0</td>\n",
       "      <td>0.0</td>\n",
       "      <td>0.0</td>\n",
       "      <td>NaN</td>\n",
       "      <td>0.0</td>\n",
       "      <td>0.0</td>\n",
       "      <td>0.0</td>\n",
       "      <td>NaN</td>\n",
       "      <td>0.0</td>\n",
       "      <td>0.0</td>\n",
       "      <td>0.0</td>\n",
       "      <td>0.0</td>\n",
       "    </tr>\n",
       "  </tbody>\n",
       "</table>\n",
       "</div>"
      ],
      "text/plain": [
       "                    FIPS  Dose1_Recip_030121  Dose1_Pop_Pct_030121  \\\n",
       "Recip_County                                                         \n",
       "Mason County_MI    26105              5795.0                  19.9   \n",
       "Colusa County_CA   06011              2666.0                  12.4   \n",
       "Henry County_AL    01067              2369.0                  13.8   \n",
       "Pulaski County_KY  21199              8231.0                  12.7   \n",
       "Franklin city_VA   51620                 0.0                   0.0   \n",
       "\n",
       "                   Series_Complete_Pop_Pct_030121  \\\n",
       "Recip_County                                        \n",
       "Mason County_MI                              12.1   \n",
       "Colusa County_CA                              3.8   \n",
       "Henry County_AL                               6.1   \n",
       "Pulaski County_KY                             6.1   \n",
       "Franklin city_VA                              0.0   \n",
       "\n",
       "                   Booster_Doses_Vax_Pct_030121  Dose1_Recip_090121  \\\n",
       "Recip_County                                                          \n",
       "Mason County_MI                             NaN                 NaN   \n",
       "Colusa County_CA                            NaN             11806.0   \n",
       "Henry County_AL                             NaN              6804.0   \n",
       "Pulaski County_KY                           NaN             28835.0   \n",
       "Franklin city_VA                            NaN                 0.0   \n",
       "\n",
       "                   Dose1_Pop_Pct_090121  Series_Complete_Pop_Pct_090121  \\\n",
       "Recip_County                                                              \n",
       "Mason County_MI                     0.0                            51.7   \n",
       "Colusa County_CA                   54.8                            45.8   \n",
       "Henry County_AL                    39.5                            30.7   \n",
       "Pulaski County_KY                  44.4                            38.2   \n",
       "Franklin city_VA                    0.0                             0.0   \n",
       "\n",
       "                   Booster_Doses_Vax_Pct_090121  Dose1_Recip_030122  \\\n",
       "Recip_County                                                          \n",
       "Mason County_MI                             NaN             17777.0   \n",
       "Colusa County_CA                            NaN             14465.0   \n",
       "Henry County_AL                             NaN              9335.0   \n",
       "Pulaski County_KY                           NaN             33758.0   \n",
       "Franklin city_VA                            NaN                 0.0   \n",
       "\n",
       "                   Dose1_Pop_Pct_030122  Series_Complete_Pop_Pct_030122  \\\n",
       "Recip_County                                                              \n",
       "Mason County_MI                    61.0                            60.1   \n",
       "Colusa County_CA                   67.1                            59.7   \n",
       "Henry County_AL                    54.3                            44.9   \n",
       "Pulaski County_KY                  52.0                            45.6   \n",
       "Franklin city_VA                    0.0                             0.0   \n",
       "\n",
       "                   Booster_Doses_Vax_Pct_030122  \n",
       "Recip_County                                     \n",
       "Mason County_MI                            58.2  \n",
       "Colusa County_CA                           33.6  \n",
       "Henry County_AL                            33.8  \n",
       "Pulaski County_KY                          40.9  \n",
       "Franklin city_VA                            0.0  "
      ]
     },
     "execution_count": 7,
     "metadata": {},
     "output_type": "execute_result"
    }
   ],
   "source": [
    "df_030121 = df.loc[(df['Date'] == '03/01/2021')] # filter to only data from this date\n",
    "df_030121 = df_030121[['FIPS', 'Recip_County','Administered_Dose1_Recip', 'Administered_Dose1_Pop_Pct', 'Series_Complete_Pop_Pct', 'Booster_Doses_Vax_Pct']] #filter to wanted columns\n",
    "df_030121 = df_030121.rename(columns={'Administered_Dose1_Recip': 'Dose1_Recip_030121',      #label each column with the date\n",
    "                                      'Administered_Dose1_Pop_Pct':'Dose1_Pop_Pct_030121', \n",
    "                                      'Series_Complete_Pop_Pct':'Series_Complete_Pop_Pct_030121',\n",
    "                                      'Booster_Doses_Vax_Pct': 'Booster_Doses_Vax_Pct_030121'}) \n",
    "\n",
    "df_090121 = df.loc[(df['Date'] == '09/01/2021')]\n",
    "df_090121 = df_090121[['Recip_County','Administered_Dose1_Recip', 'Administered_Dose1_Pop_Pct', 'Series_Complete_Pop_Pct', 'Booster_Doses_Vax_Pct']]\n",
    "df_090121 = df_090121.rename(columns={'Administered_Dose1_Recip': 'Dose1_Recip_090121', \n",
    "                                      'Administered_Dose1_Pop_Pct':'Dose1_Pop_Pct_090121', \n",
    "                                      'Series_Complete_Pop_Pct':'Series_Complete_Pop_Pct_090121',\n",
    "                                      'Booster_Doses_Vax_Pct': 'Booster_Doses_Vax_Pct_090121'})\n",
    "\n",
    "df_030122 = df.loc[(df['Date'] == '03/01/2022')]\n",
    "df_030122 = df_030122[['Recip_County','Administered_Dose1_Recip', 'Administered_Dose1_Pop_Pct', 'Series_Complete_Pop_Pct', 'Booster_Doses_Vax_Pct']]\n",
    "df_030122 = df_030122.rename(columns={'Administered_Dose1_Recip': 'Dose1_Recip_030122',\n",
    "                                      'Administered_Dose1_Pop_Pct':'Dose1_Pop_Pct_030122', \n",
    "                                      'Series_Complete_Pop_Pct':'Series_Complete_Pop_Pct_030122',\n",
    "                                      'Booster_Doses_Vax_Pct': 'Booster_Doses_Vax_Pct_030122'})\n",
    "\n",
    "data_3dates_df = pd.merge(df_030121,df_090121).merge(df_030122) # merge all three dfs\n",
    "data_3dates_df.set_index('Recip_County', inplace = True) # set index to county name\n",
    "data_3dates_df.head()"
   ]
  },
  {
   "cell_type": "code",
   "execution_count": 8,
   "id": "03484936-a32b-40e8-bfec-c646759b1062",
   "metadata": {},
   "outputs": [
    {
     "data": {
      "text/plain": [
       "((3191, 6), (3191, 5), (3193, 5), (3191, 13))"
      ]
     },
     "execution_count": 8,
     "metadata": {},
     "output_type": "execute_result"
    }
   ],
   "source": [
    "df_030121.shape,df_090121.shape, df_030122.shape, data_3dates_df.shape"
   ]
  },
  {
   "cell_type": "code",
   "execution_count": 9,
   "id": "8d583ecb-2cdb-48db-82e0-951aee8ac08b",
   "metadata": {},
   "outputs": [],
   "source": [
    "data_3dates_df.fillna('0', inplace = True) # In this data, NaNs are stand-ins for \"0\", so imputing with \"0\"."
   ]
  },
  {
   "cell_type": "code",
   "execution_count": 10,
   "id": "5a8b5d99-8cd4-4023-8050-35451569c4db",
   "metadata": {},
   "outputs": [
    {
     "data": {
      "text/plain": [
       "FIPS                              0\n",
       "Dose1_Recip_030121                0\n",
       "Dose1_Pop_Pct_030121              0\n",
       "Series_Complete_Pop_Pct_030121    0\n",
       "Booster_Doses_Vax_Pct_030121      0\n",
       "Dose1_Recip_090121                0\n",
       "Dose1_Pop_Pct_090121              0\n",
       "Series_Complete_Pop_Pct_090121    0\n",
       "Booster_Doses_Vax_Pct_090121      0\n",
       "Dose1_Recip_030122                0\n",
       "Dose1_Pop_Pct_030122              0\n",
       "Series_Complete_Pop_Pct_030122    0\n",
       "Booster_Doses_Vax_Pct_030122      0\n",
       "dtype: int64"
      ]
     },
     "execution_count": 10,
     "metadata": {},
     "output_type": "execute_result"
    }
   ],
   "source": [
    "data_3dates_df.isnull().sum()"
   ]
  },
  {
   "cell_type": "code",
   "execution_count": 11,
   "id": "f0510c2e-4dcb-4664-a494-011451364a63",
   "metadata": {},
   "outputs": [],
   "source": [
    "data_3dates_df.index = data_3dates_df.index.map(lambda x: x.lower())"
   ]
  },
  {
   "cell_type": "code",
   "execution_count": 12,
   "id": "ffd9ef55-d07f-4b40-bb24-46363691ce0a",
   "metadata": {},
   "outputs": [],
   "source": [
    "data_3dates_df.index = data_3dates_df.index.str.replace(' county', '')"
   ]
  },
  {
   "cell_type": "code",
   "execution_count": 13,
   "id": "643dd504-5b99-4cc4-93f5-6f01df0b2fb4",
   "metadata": {},
   "outputs": [],
   "source": [
    "data_3dates_df.to_csv('./clean_data/checkpoints_rev.csv')"
   ]
  },
  {
   "cell_type": "code",
   "execution_count": null,
   "id": "31d5e912-4785-4f17-8cbd-f79b1cc0c887",
   "metadata": {},
   "outputs": [],
   "source": []
  }
 ],
 "metadata": {
  "kernelspec": {
   "display_name": "Python 3 (ipykernel)",
   "language": "python",
   "name": "python3"
  },
  "language_info": {
   "codemirror_mode": {
    "name": "ipython",
    "version": 3
   },
   "file_extension": ".py",
   "mimetype": "text/x-python",
   "name": "python",
   "nbconvert_exporter": "python",
   "pygments_lexer": "ipython3",
   "version": "3.9.7"
  }
 },
 "nbformat": 4,
 "nbformat_minor": 5
}
